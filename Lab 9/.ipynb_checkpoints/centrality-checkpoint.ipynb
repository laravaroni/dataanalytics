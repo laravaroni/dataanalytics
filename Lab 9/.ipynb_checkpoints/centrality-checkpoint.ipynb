{
 "cells": [
  {
   "cell_type": "markdown",
   "metadata": {
    "id": "pnO4WVsnD9SW"
   },
   "source": [
    "*italicized text*# Graph Data Analytics"
   ]
  },
  {
   "cell_type": "code",
   "execution_count": null,
   "metadata": {
    "id": "RBss6ABlD9SY"
   },
   "outputs": [],
   "source": [
    "#!conda install networkx --yes"
   ]
  },
  {
   "cell_type": "code",
   "execution_count": 5,
   "metadata": {},
   "outputs": [
    {
     "name": "stdout",
     "output_type": "stream",
     "text": [
      "Collecting networkx==2.4\n",
      "  Using cached networkx-2.4-py3-none-any.whl (1.6 MB)\n",
      "Requirement already satisfied: decorator>=4.3.0 in /opt/anaconda3/lib/python3.8/site-packages (from networkx==2.4) (5.0.6)\n",
      "Installing collected packages: networkx\n",
      "  Attempting uninstall: networkx\n",
      "    Found existing installation: networkx 2.5\n",
      "    Uninstalling networkx-2.5:\n",
      "      Successfully uninstalled networkx-2.5\n",
      "Successfully installed networkx-2.4\n",
      "\u001b[33mWARNING: You are using pip version 22.0.4; however, version 22.1 is available.\n",
      "You should consider upgrading via the '/opt/anaconda3/bin/python -m pip install --upgrade pip' command.\u001b[0m\u001b[33m\n",
      "\u001b[0m"
     ]
    }
   ],
   "source": [
    "!pip install networkx==2.4"
   ]
  },
  {
   "cell_type": "code",
   "execution_count": null,
   "metadata": {
    "colab": {
     "base_uri": "https://localhost:8080/"
    },
    "id": "dP0G0qubD9SZ",
    "outputId": "e17d81a1-bfed-4054-ff6c-6738185145b1"
   },
   "outputs": [],
   "source": [
    "import matplotlib.pyplot as plt\n",
    "import networkx as nx\n",
    "import numpy as np\n",
    "G = nx.karate_club_graph()\n",
    "print(nx.info(G))"
   ]
  },
  {
   "cell_type": "markdown",
   "metadata": {
    "id": "9Kj9uFc9D9Sa"
   },
   "source": [
    "### Calculate page rank by using simple degree centrality"
   ]
  },
  {
   "cell_type": "code",
   "execution_count": null,
   "metadata": {
    "id": "Q4grdj9gD9Sa",
    "outputId": "a3b75ef8-7019-4729-f065-ebc2c8be77ba"
   },
   "outputs": [],
   "source": [
    "def simple_pagerank(G, iter = 100):\n",
    "    p = np.array([1 for i in G.nodes()])\n",
    "    \n",
    "    for k in range(iter):\n",
    "        for i in G.nodes():\n",
    "            for j in G.nodes():\n",
    "                Aji = G.number_of_edges(i,j)\n",
    "                Cvj = p[j]\n",
    "                dj = G.degree(j)\n",
    "                p[i] += Aji * (Cvj/dj) # formula of pagerank\n",
    "        norm = sum(p)\n",
    "        p = p/norm\n",
    "    return p\n",
    "G = nx.karate_club_graph()\n",
    "print(nx.info(G))\n",
    "values = simple_pagerank(G)\n",
    "nx.draw(G,cmap=plt.get_cmap('Reds'),node_color = values, with_labels=True)"
   ]
  },
  {
   "cell_type": "markdown",
   "metadata": {
    "id": "2Ubo057TD9Sb"
   },
   "source": [
    "### Calculate page rank by updating the centrality of each node with the iteration"
   ]
  },
  {
   "cell_type": "code",
   "execution_count": null,
   "metadata": {
    "id": "9cYR6NptD9Sb",
    "outputId": "3ddd6c4a-bbee-4d0f-9385-d92bc2cc7e03"
   },
   "outputs": [
    {
     "name": "stdout",
     "output_type": "stream",
     "text": [
      "(6175,)\n"
     ]
    }
   ],
   "source": [
    "def pagerank_centrality(G, iter=100):\n",
    "    p = np.array([1 for i in list(G.nodes())])\n",
    "    print(p.shape)\n",
    "    for k in range(iter):\n",
    "        for i in G.nodes():\n",
    "            for j in G.nodes():\n",
    "                # update the centrality\n",
    "                try:\n",
    "                    p[i] += int(G.number_of_edges(i, j) * p[j] / G.degree[j])\n",
    "                except:\n",
    "                    pass\n",
    "        \n",
    "        norm = sum(p)\n",
    "        p = p / norm        \n",
    "    return p\n",
    "\n",
    "\n",
    "values = pagerank_centrality(G)\n",
    "nx.draw(G, cmap=plt.get_cmap('coolwarm'), node_color = values, with_labels=True)"
   ]
  },
  {
   "cell_type": "code",
   "execution_count": 9,
   "metadata": {
    "id": "Ek3xP-BsD9Sc",
    "outputId": "b147c1cf-fd83-4907-d348-c221e88e05cb"
   },
   "outputs": [
    {
     "name": "stdout",
     "output_type": "stream",
     "text": [
      "Name: \n",
      "Type: Graph\n",
      "Number of nodes: 6175\n",
      "Number of edges: 15969\n",
      "Average degree:   5.1721\n",
      "Name: \n",
      "Type: Graph\n",
      "Number of nodes: 50\n",
      "Number of edges: 42\n",
      "Average degree:   1.6800\n"
     ]
    }
   ],
   "source": [
    "G = nx.read_edgelist(\"gr0.California.edegs.txt\")\n",
    "G.remove_nodes_from(list(nx.isolates(G)))\n",
    "print(nx.info(G))\n",
    "G1 = G.subgraph(list(G.nodes())[100:150])\n",
    "print(nx.info(G1))"
   ]
  },
  {
   "cell_type": "code",
   "execution_count": 12,
   "metadata": {
    "id": "UZgrYGf_D9Sc",
    "outputId": "c5391688-4f6e-4871-90de-5d02d7cd2bf0"
   },
   "outputs": [
    {
     "ename": "IndexError",
     "evalue": "only integers, slices (`:`), ellipsis (`...`), numpy.newaxis (`None`) and integer or boolean arrays are valid indices",
     "output_type": "error",
     "traceback": [
      "\u001b[0;31m---------------------------------------------------------------------------\u001b[0m",
      "\u001b[0;31mIndexError\u001b[0m                                Traceback (most recent call last)",
      "\u001b[0;32m<ipython-input-12-082620abe466>\u001b[0m in \u001b[0;36m<module>\u001b[0;34m\u001b[0m\n\u001b[0;32m----> 1\u001b[0;31m \u001b[0mvalues\u001b[0m \u001b[0;34m=\u001b[0m \u001b[0msimple_pagerank\u001b[0m\u001b[0;34m(\u001b[0m\u001b[0mG1\u001b[0m\u001b[0;34m)\u001b[0m\u001b[0;34m\u001b[0m\u001b[0;34m\u001b[0m\u001b[0m\n\u001b[0m\u001b[1;32m      2\u001b[0m \u001b[0mnx\u001b[0m\u001b[0;34m.\u001b[0m\u001b[0mdraw\u001b[0m\u001b[0;34m(\u001b[0m\u001b[0mG1\u001b[0m\u001b[0;34m,\u001b[0m \u001b[0mcmap\u001b[0m\u001b[0;34m=\u001b[0m\u001b[0mplt\u001b[0m\u001b[0;34m.\u001b[0m\u001b[0mget_cmap\u001b[0m\u001b[0;34m(\u001b[0m\u001b[0;34m'coolwarm'\u001b[0m\u001b[0;34m)\u001b[0m\u001b[0;34m,\u001b[0m \u001b[0mnode_color\u001b[0m \u001b[0;34m=\u001b[0m \u001b[0mvalues\u001b[0m\u001b[0;34m,\u001b[0m \u001b[0mwith_labels\u001b[0m\u001b[0;34m=\u001b[0m\u001b[0;32mTrue\u001b[0m\u001b[0;34m)\u001b[0m\u001b[0;34m\u001b[0m\u001b[0;34m\u001b[0m\u001b[0m\n",
      "\u001b[0;32m<ipython-input-2-9340ce00faae>\u001b[0m in \u001b[0;36msimple_pagerank\u001b[0;34m(G, iter)\u001b[0m\n\u001b[1;32m      6\u001b[0m             \u001b[0;32mfor\u001b[0m \u001b[0mj\u001b[0m \u001b[0;32min\u001b[0m \u001b[0mG\u001b[0m\u001b[0;34m.\u001b[0m\u001b[0mnodes\u001b[0m\u001b[0;34m(\u001b[0m\u001b[0;34m)\u001b[0m\u001b[0;34m:\u001b[0m\u001b[0;34m\u001b[0m\u001b[0;34m\u001b[0m\u001b[0m\n\u001b[1;32m      7\u001b[0m                 \u001b[0mAji\u001b[0m \u001b[0;34m=\u001b[0m \u001b[0mG\u001b[0m\u001b[0;34m.\u001b[0m\u001b[0mnumber_of_edges\u001b[0m\u001b[0;34m(\u001b[0m\u001b[0mi\u001b[0m\u001b[0;34m,\u001b[0m\u001b[0mj\u001b[0m\u001b[0;34m)\u001b[0m\u001b[0;34m\u001b[0m\u001b[0;34m\u001b[0m\u001b[0m\n\u001b[0;32m----> 8\u001b[0;31m                 \u001b[0mCvj\u001b[0m \u001b[0;34m=\u001b[0m \u001b[0mp\u001b[0m\u001b[0;34m[\u001b[0m\u001b[0mj\u001b[0m\u001b[0;34m]\u001b[0m\u001b[0;34m\u001b[0m\u001b[0;34m\u001b[0m\u001b[0m\n\u001b[0m\u001b[1;32m      9\u001b[0m                 \u001b[0mdj\u001b[0m \u001b[0;34m=\u001b[0m \u001b[0mG\u001b[0m\u001b[0;34m.\u001b[0m\u001b[0mdegree\u001b[0m\u001b[0;34m(\u001b[0m\u001b[0mj\u001b[0m\u001b[0;34m)\u001b[0m\u001b[0;34m\u001b[0m\u001b[0;34m\u001b[0m\u001b[0m\n\u001b[1;32m     10\u001b[0m                 \u001b[0mp\u001b[0m\u001b[0;34m[\u001b[0m\u001b[0mi\u001b[0m\u001b[0;34m]\u001b[0m \u001b[0;34m+=\u001b[0m \u001b[0mAji\u001b[0m \u001b[0;34m*\u001b[0m \u001b[0;34m(\u001b[0m\u001b[0mCvj\u001b[0m\u001b[0;34m/\u001b[0m\u001b[0mdj\u001b[0m\u001b[0;34m)\u001b[0m \u001b[0;31m# formula of pagerank\u001b[0m\u001b[0;34m\u001b[0m\u001b[0;34m\u001b[0m\u001b[0m\n",
      "\u001b[0;31mIndexError\u001b[0m: only integers, slices (`:`), ellipsis (`...`), numpy.newaxis (`None`) and integer or boolean arrays are valid indices"
     ]
    }
   ],
   "source": [
    "values = simple_pagerank(G1)\n",
    "nx.draw(G1, cmap=plt.get_cmap('coolwarm'), node_color = values, with_labels=True)"
   ]
  },
  {
   "cell_type": "code",
   "execution_count": 8,
   "metadata": {
    "id": "OeHqNzOID9Sd",
    "outputId": "86993ff8-e406-4ffe-af75-3c3c6df61668"
   },
   "outputs": [
    {
     "name": "stdout",
     "output_type": "stream",
     "text": [
      "(50,)\n"
     ]
    },
    {
     "data": {
      "image/png": "[encoded data removed]",
      "text/plain": [
       "<Figure size 432x288 with 1 Axes>"
      ]
     },
     "metadata": {},
     "output_type": "display_data"
    }
   ],
   "source": [
    "values = pagerank_centrality(G1)\n",
    "nx.draw(G1, cmap=plt.get_cmap('coolwarm'), node_color = values, with_labels=True)"
   ]
  },
  {
   "cell_type": "code",
   "execution_count": null,
   "metadata": {
    "id": "maJHBMAnD9Sd"
   },
   "outputs": [],
   "source": []
  }
 ],
 "metadata": {
  "colab": {
   "name": "pagerank_solutions.ipynb",
   "provenance": []
  },
  "kernelspec": {
   "display_name": "Python 3",
   "language": "python",
   "name": "python3"
  },
  "language_info": {
   "codemirror_mode": {
    "name": "ipython",
    "version": 3
   },
   "file_extension": ".py",
   "mimetype": "text/x-python",
   "name": "python",
   "nbconvert_exporter": "python",
   "pygments_lexer": "ipython3",
   "version": "3.8.8"
  }
 },
 "nbformat": 4,
 "nbformat_minor": 1
}
