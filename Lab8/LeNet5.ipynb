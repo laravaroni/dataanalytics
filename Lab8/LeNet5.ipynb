{
  "cells": [
    {
      "cell_type": "markdown",
      "metadata": {
        "id": "EDbJWoO1yO8e"
      },
      "source": [
        "# Image Classification with CNN - LeNet5 architecture"
      ]
    },
    {
      "cell_type": "markdown",
      "metadata": {
        "id": "JzQxqD6HyO8i"
      },
      "source": [
        "In this exercise, we will apply the LeNet5 algorithm to the Fashion MNIST dataset and improve your performances."
      ]
    },
    {
      "cell_type": "markdown",
      "metadata": {
        "id": "XFyVotRvyO8j"
      },
      "source": [
        "We will first download the data:"
      ]
    },
    {
      "cell_type": "code",
      "execution_count": 1,
      "metadata": {
        "colab": {
          "base_uri": "https://localhost:8080/"
        },
        "id": "RTHLyL1fyO8j",
        "outputId": "6d751379-abb6-4562-843e-00b8a9fd8e27",
        "scrolled": true
      },
      "outputs": [
        {
          "output_type": "stream",
          "name": "stdout",
          "text": [
            "Downloading data from https://storage.googleapis.com/tensorflow/tf-keras-datasets/train-labels-idx1-ubyte.gz\n",
            "32768/29515 [=================================] - 0s 0us/step\n",
            "40960/29515 [=========================================] - 0s 0us/step\n",
            "Downloading data from https://storage.googleapis.com/tensorflow/tf-keras-datasets/train-images-idx3-ubyte.gz\n",
            "26427392/26421880 [==============================] - 0s 0us/step\n",
            "26435584/26421880 [==============================] - 0s 0us/step\n",
            "Downloading data from https://storage.googleapis.com/tensorflow/tf-keras-datasets/t10k-labels-idx1-ubyte.gz\n",
            "16384/5148 [===============================================================================================] - 0s 0us/step\n",
            "Downloading data from https://storage.googleapis.com/tensorflow/tf-keras-datasets/t10k-images-idx3-ubyte.gz\n",
            "4423680/4422102 [==============================] - 0s 0us/step\n",
            "4431872/4422102 [==============================] - 0s 0us/step\n"
          ]
        },
        {
          "output_type": "execute_result",
          "data": {
            "text/plain": [
              "(60000, 28, 28)"
            ]
          },
          "metadata": {},
          "execution_count": 1
        }
      ],
      "source": [
        "# TODO: Load the dataset\n",
        "from tensorflow.keras.datasets import fashion_mnist\n",
        "\n",
        "(X_train, y_train), (X_test, y_test) = fashion_mnist.load_data()\n",
        "\n",
        "X_train.shape"
      ]
    },
    {
      "cell_type": "markdown",
      "metadata": {
        "id": "c8ShXIANyO8l"
      },
      "source": [
        "As you already know, this dataset contains 10 classes:\n",
        "* 0:\tT-shirt/top\n",
        "* 1:\tTrouser\n",
        "* 2:\tPullover\n",
        "* 3:\tDress\n",
        "* 4:\tCoat\n",
        "* 5:\tSandal\n",
        "* 6:\tShirt\n",
        "* 7:\tSneaker\n",
        "* 8:\tBag\n",
        "* 9:\tAnkle boot"
      ]
    },
    {
      "cell_type": "markdown",
      "metadata": {
        "id": "_BvNG0PbyO8l"
      },
      "source": [
        "You can have a look at some images if needed, even if you already know them."
      ]
    },
    {
      "cell_type": "code",
      "execution_count": 2,
      "metadata": {
        "colab": {
          "base_uri": "https://localhost:8080/",
          "height": 281
        },
        "id": "lnjqgv-GyO8m",
        "outputId": "a3e12910-55cb-437b-e5c3-27111cfec4bc",
        "scrolled": true
      },
      "outputs": [
        {
          "output_type": "display_data",
          "data": {
            "text/plain": [
              "<Figure size 432x288 with 1 Axes>"
            ],
            "image/png": "[encoded data removed]"
          },
          "metadata": {
            "needs_background": "light"
          }
        }
      ],
      "source": [
        "# TODO: Explore the data, display some input images\n",
        "%matplotlib inline\n",
        "import matplotlib.pyplot as plt\n",
        "import numpy as np\n",
        "\n",
        "label_class = ['top', 'trouser', 'pullover', 'dress', 'coat', 'sandal', 'shirt', 'sneaker', 'bag', 'ankle boot']\n",
        "\n",
        "idx = np.random.randint(X_train.shape[0])\n",
        "\n",
        "plt.imshow(X_train[idx])\n",
        "plt.title(label_class[y_train[idx]])\n",
        "plt.show()"
      ]
    },
    {
      "cell_type": "markdown",
      "metadata": {
        "id": "AdYH6XW1yO8n"
      },
      "source": [
        "Make the data preparation and preprocessing: scale and reshape the data, put the labels to the good shape."
      ]
    },
    {
      "cell_type": "code",
      "execution_count": null,
      "metadata": {
        "id": "fjv8XMPByO8o"
      },
      "outputs": [],
      "source": [
        "# TODO: Make the data preparation\n",
        "from tensorflow.keras.utils import to_categorical\n",
        "\n",
        "y_train_cat = to_categorical(y_train)\n",
        "y_test_cat = to_categorical(y_test)\n",
        "\n",
        "X_train_norm = ...\n",
        "X_test_norm = ...\n",
        "\n",
        "\n",
        "X_train_norm = ...\n",
        "X_test_norm = ...\n",
        "\n",
        "X_train_norm.shape #Should be (60000, 28, 28, 1)"
      ]
    },
    {
      "cell_type": "markdown",
      "metadata": {
        "id": "y9LKzxR9yO8o"
      },
      "source": [
        "Now build the LeNet5 architecture. You can reuse the one of the course, or try to build it by yourself.\n",
        "\n",
        "The architecture is the following:\n",
        "\n",
        "<p align=\"center\">\n",
        "<img src=\"https://drive.google.com/uc?export=view&id=1WteTU2FPIVMkBKmMxGpFm5OjsX-szTbB\">\n",
        "</p>"
      ]
    },
    {
      "cell_type": "code",
      "execution_count": null,
      "metadata": {
        "id": "GKyMFlL6yO8o"
      },
      "outputs": [],
      "source": [
        "# TODO: Build your model\n",
        "from tensorflow.keras.models import Sequential\n",
        "from tensorflow.keras.layers import MaxPooling2D, Conv2D, Flatten, Dense\n",
        "\n",
        "\n",
        "def lenet5():\n",
        "    \n",
        "    model = Sequential()\n",
        "\n",
        "    # Layer C1\n",
        "    model.add(...(filters=6, name='C1', kernel_size=(3, 3), activation='relu', input_shape=(28,28,1)))\n",
        "    # Layer S2\n",
        "    model.add(MaxPooling2D(pool_size=(2, 2), name='S2'))\n",
        "    # Layer C3\n",
        "    model.add(...)\n",
        "    # Layer S4\n",
        "    model.add(...)\n",
        "    # Before going into layer C5, we flatten our units\n",
        "    model.add(Flatten())\n",
        "    # Layer C5\n",
        "    model.add(...)\n",
        "    # Layer F6\n",
        "    model.add(...)\n",
        "    # Output layer\n",
        "    model.add(Dense(units=10, activation = 'softmax'))\n",
        "    \n",
        "    return model"
      ]
    },
    {
      "cell_type": "markdown",
      "metadata": {
        "id": "i1qBEauqyO8p"
      },
      "source": [
        "Now compile and fit your model on your training data. Since this is a multiclass classification, the loss is not `binary_crossentropy` anymore, but `categorical_crossentropy`."
      ]
    },
    {
      "cell_type": "code",
      "execution_count": null,
      "metadata": {
        "colab": {
          "base_uri": "https://localhost:8080/"
        },
        "id": "nPL3aKnyyO8p",
        "outputId": "9157f4ba-7840-4080-ecf9-7826ebca3f94",
        "scrolled": true
      },
      "outputs": [
        {
          "name": "stdout",
          "output_type": "stream",
          "text": [
            "Epoch 1/100\n",
            "30/30 [==============================] - 2s 36ms/step - loss: 1.6740 - accuracy: 0.5585 - val_loss: 0.8815 - val_accuracy: 0.6980\n",
            "Epoch 2/100\n",
            "30/30 [==============================] - 1s 24ms/step - loss: 0.7219 - accuracy: 0.7383 - val_loss: 0.6501 - val_accuracy: 0.7561\n",
            "Epoch 3/100\n",
            "30/30 [==============================] - 1s 25ms/step - loss: 0.5916 - accuracy: 0.7801 - val_loss: 0.5772 - val_accuracy: 0.7877\n",
            "Epoch 4/100\n",
            "30/30 [==============================] - 1s 24ms/step - loss: 0.5331 - accuracy: 0.8033 - val_loss: 0.5293 - val_accuracy: 0.8106\n",
            "Epoch 5/100\n",
            "30/30 [==============================] - 1s 24ms/step - loss: 0.4891 - accuracy: 0.8241 - val_loss: 0.5082 - val_accuracy: 0.8156\n",
            "Epoch 6/100\n",
            "30/30 [==============================] - 1s 24ms/step - loss: 0.4620 - accuracy: 0.8351 - val_loss: 0.4730 - val_accuracy: 0.8293\n",
            "Epoch 7/100\n",
            "30/30 [==============================] - 1s 24ms/step - loss: 0.4358 - accuracy: 0.8475 - val_loss: 0.4890 - val_accuracy: 0.8203\n",
            "Epoch 8/100\n",
            "30/30 [==============================] - 1s 24ms/step - loss: 0.4273 - accuracy: 0.8480 - val_loss: 0.4448 - val_accuracy: 0.8402\n",
            "Epoch 9/100\n",
            "30/30 [==============================] - 1s 25ms/step - loss: 0.4096 - accuracy: 0.8552 - val_loss: 0.4381 - val_accuracy: 0.8435\n",
            "Epoch 10/100\n",
            "30/30 [==============================] - 1s 24ms/step - loss: 0.3943 - accuracy: 0.8622 - val_loss: 0.4157 - val_accuracy: 0.8515\n",
            "Epoch 11/100\n",
            "30/30 [==============================] - 1s 24ms/step - loss: 0.3867 - accuracy: 0.8646 - val_loss: 0.4124 - val_accuracy: 0.8530\n",
            "Epoch 12/100\n",
            "30/30 [==============================] - 1s 24ms/step - loss: 0.3774 - accuracy: 0.8679 - val_loss: 0.4086 - val_accuracy: 0.8537\n",
            "Epoch 13/100\n",
            "30/30 [==============================] - 1s 24ms/step - loss: 0.3680 - accuracy: 0.8710 - val_loss: 0.3972 - val_accuracy: 0.8588\n",
            "Epoch 14/100\n",
            "30/30 [==============================] - 1s 24ms/step - loss: 0.3644 - accuracy: 0.8722 - val_loss: 0.3895 - val_accuracy: 0.8603\n",
            "Epoch 15/100\n",
            "30/30 [==============================] - 1s 24ms/step - loss: 0.3558 - accuracy: 0.8749 - val_loss: 0.3865 - val_accuracy: 0.8624\n",
            "Epoch 16/100\n",
            "30/30 [==============================] - 1s 24ms/step - loss: 0.3518 - accuracy: 0.8755 - val_loss: 0.3881 - val_accuracy: 0.8608\n",
            "Epoch 17/100\n",
            "30/30 [==============================] - 1s 24ms/step - loss: 0.3479 - accuracy: 0.8774 - val_loss: 0.3900 - val_accuracy: 0.8605\n",
            "Epoch 18/100\n",
            "30/30 [==============================] - 1s 24ms/step - loss: 0.3421 - accuracy: 0.8784 - val_loss: 0.3741 - val_accuracy: 0.8669\n",
            "Epoch 19/100\n",
            "30/30 [==============================] - 1s 24ms/step - loss: 0.3389 - accuracy: 0.8799 - val_loss: 0.3852 - val_accuracy: 0.8647\n",
            "Epoch 20/100\n",
            "30/30 [==============================] - 1s 24ms/step - loss: 0.3374 - accuracy: 0.8804 - val_loss: 0.3726 - val_accuracy: 0.8674\n",
            "Epoch 21/100\n",
            "30/30 [==============================] - 1s 25ms/step - loss: 0.3306 - accuracy: 0.8825 - val_loss: 0.3747 - val_accuracy: 0.8676\n",
            "Epoch 22/100\n",
            "30/30 [==============================] - 1s 24ms/step - loss: 0.3290 - accuracy: 0.8824 - val_loss: 0.3684 - val_accuracy: 0.8674\n",
            "Epoch 23/100\n",
            "30/30 [==============================] - 1s 25ms/step - loss: 0.3199 - accuracy: 0.8866 - val_loss: 0.3599 - val_accuracy: 0.8717\n",
            "Epoch 24/100\n",
            "30/30 [==============================] - 1s 24ms/step - loss: 0.3196 - accuracy: 0.8863 - val_loss: 0.3549 - val_accuracy: 0.8747\n",
            "Epoch 25/100\n",
            "30/30 [==============================] - 1s 24ms/step - loss: 0.3154 - accuracy: 0.8868 - val_loss: 0.3554 - val_accuracy: 0.8733\n",
            "Epoch 26/100\n",
            "30/30 [==============================] - 1s 25ms/step - loss: 0.3121 - accuracy: 0.8875 - val_loss: 0.3656 - val_accuracy: 0.8702\n",
            "Epoch 27/100\n",
            "30/30 [==============================] - 1s 24ms/step - loss: 0.3118 - accuracy: 0.8883 - val_loss: 0.3502 - val_accuracy: 0.8763\n",
            "Epoch 28/100\n",
            "30/30 [==============================] - 1s 24ms/step - loss: 0.3051 - accuracy: 0.8904 - val_loss: 0.3451 - val_accuracy: 0.8751\n",
            "Epoch 29/100\n",
            "30/30 [==============================] - 1s 24ms/step - loss: 0.3027 - accuracy: 0.8911 - val_loss: 0.3455 - val_accuracy: 0.8789\n",
            "Epoch 30/100\n",
            "30/30 [==============================] - 1s 24ms/step - loss: 0.2984 - accuracy: 0.8931 - val_loss: 0.3452 - val_accuracy: 0.8748\n",
            "Epoch 31/100\n",
            "30/30 [==============================] - 1s 25ms/step - loss: 0.2964 - accuracy: 0.8940 - val_loss: 0.3583 - val_accuracy: 0.8698\n",
            "Epoch 32/100\n",
            "30/30 [==============================] - 1s 25ms/step - loss: 0.2965 - accuracy: 0.8936 - val_loss: 0.3399 - val_accuracy: 0.8796\n",
            "Epoch 33/100\n",
            "30/30 [==============================] - 1s 25ms/step - loss: 0.2945 - accuracy: 0.8943 - val_loss: 0.3462 - val_accuracy: 0.8755\n",
            "Epoch 34/100\n",
            "30/30 [==============================] - 1s 24ms/step - loss: 0.2908 - accuracy: 0.8951 - val_loss: 0.3368 - val_accuracy: 0.8785\n",
            "Epoch 35/100\n",
            "30/30 [==============================] - 1s 24ms/step - loss: 0.2895 - accuracy: 0.8959 - val_loss: 0.3425 - val_accuracy: 0.8782\n",
            "Epoch 36/100\n",
            "30/30 [==============================] - 1s 25ms/step - loss: 0.2839 - accuracy: 0.8985 - val_loss: 0.3343 - val_accuracy: 0.8813\n",
            "Epoch 37/100\n",
            "30/30 [==============================] - 1s 24ms/step - loss: 0.2842 - accuracy: 0.8980 - val_loss: 0.3354 - val_accuracy: 0.8793\n",
            "Epoch 38/100\n",
            "30/30 [==============================] - 1s 24ms/step - loss: 0.2805 - accuracy: 0.8992 - val_loss: 0.3306 - val_accuracy: 0.8801\n",
            "Epoch 39/100\n",
            "30/30 [==============================] - 1s 25ms/step - loss: 0.2797 - accuracy: 0.8989 - val_loss: 0.3262 - val_accuracy: 0.8835\n",
            "Epoch 40/100\n",
            "30/30 [==============================] - 1s 24ms/step - loss: 0.2758 - accuracy: 0.9008 - val_loss: 0.3293 - val_accuracy: 0.8803\n",
            "Epoch 41/100\n",
            "30/30 [==============================] - 1s 24ms/step - loss: 0.2774 - accuracy: 0.9004 - val_loss: 0.3268 - val_accuracy: 0.8824\n",
            "Epoch 42/100\n",
            "30/30 [==============================] - 1s 24ms/step - loss: 0.2730 - accuracy: 0.9024 - val_loss: 0.3331 - val_accuracy: 0.8812\n",
            "Epoch 43/100\n",
            "30/30 [==============================] - 1s 24ms/step - loss: 0.2713 - accuracy: 0.9024 - val_loss: 0.3212 - val_accuracy: 0.8858\n",
            "Epoch 44/100\n",
            "30/30 [==============================] - 1s 25ms/step - loss: 0.2691 - accuracy: 0.9035 - val_loss: 0.3233 - val_accuracy: 0.8833\n",
            "Epoch 45/100\n",
            "30/30 [==============================] - 1s 24ms/step - loss: 0.2678 - accuracy: 0.9041 - val_loss: 0.3194 - val_accuracy: 0.8861\n",
            "Epoch 46/100\n",
            "30/30 [==============================] - 1s 25ms/step - loss: 0.2663 - accuracy: 0.9041 - val_loss: 0.3234 - val_accuracy: 0.8849\n",
            "Epoch 47/100\n",
            "30/30 [==============================] - 1s 25ms/step - loss: 0.2643 - accuracy: 0.9050 - val_loss: 0.3182 - val_accuracy: 0.8839\n",
            "Epoch 48/100\n",
            "30/30 [==============================] - 1s 24ms/step - loss: 0.2628 - accuracy: 0.9056 - val_loss: 0.3236 - val_accuracy: 0.8833\n",
            "Epoch 49/100\n",
            "30/30 [==============================] - 1s 24ms/step - loss: 0.2662 - accuracy: 0.9034 - val_loss: 0.3246 - val_accuracy: 0.8856\n",
            "Epoch 50/100\n",
            "30/30 [==============================] - 1s 24ms/step - loss: 0.2594 - accuracy: 0.9073 - val_loss: 0.3169 - val_accuracy: 0.8860\n",
            "Epoch 51/100\n",
            "30/30 [==============================] - 1s 24ms/step - loss: 0.2547 - accuracy: 0.9089 - val_loss: 0.3148 - val_accuracy: 0.8870\n",
            "Epoch 52/100\n",
            "30/30 [==============================] - 1s 24ms/step - loss: 0.2545 - accuracy: 0.9089 - val_loss: 0.3156 - val_accuracy: 0.8866\n",
            "Epoch 53/100\n",
            "30/30 [==============================] - 1s 24ms/step - loss: 0.2520 - accuracy: 0.9090 - val_loss: 0.3187 - val_accuracy: 0.8845\n",
            "Epoch 54/100\n",
            "30/30 [==============================] - 1s 24ms/step - loss: 0.2514 - accuracy: 0.9099 - val_loss: 0.3234 - val_accuracy: 0.8812\n",
            "Epoch 55/100\n",
            "30/30 [==============================] - 1s 24ms/step - loss: 0.2525 - accuracy: 0.9089 - val_loss: 0.3084 - val_accuracy: 0.8892\n",
            "Epoch 56/100\n",
            "30/30 [==============================] - 1s 24ms/step - loss: 0.2496 - accuracy: 0.9109 - val_loss: 0.3123 - val_accuracy: 0.8892\n",
            "Epoch 57/100\n",
            "30/30 [==============================] - 1s 25ms/step - loss: 0.2473 - accuracy: 0.9112 - val_loss: 0.3254 - val_accuracy: 0.8849\n",
            "Epoch 58/100\n",
            "30/30 [==============================] - 1s 25ms/step - loss: 0.2501 - accuracy: 0.9100 - val_loss: 0.3285 - val_accuracy: 0.8780\n",
            "Epoch 59/100\n",
            "30/30 [==============================] - 1s 25ms/step - loss: 0.2471 - accuracy: 0.9106 - val_loss: 0.3058 - val_accuracy: 0.8910\n",
            "Epoch 60/100\n",
            "30/30 [==============================] - 1s 25ms/step - loss: 0.2428 - accuracy: 0.9125 - val_loss: 0.3174 - val_accuracy: 0.8881\n",
            "Epoch 61/100\n",
            "30/30 [==============================] - 1s 25ms/step - loss: 0.2448 - accuracy: 0.9116 - val_loss: 0.3082 - val_accuracy: 0.8911\n",
            "Epoch 62/100\n",
            "30/30 [==============================] - 1s 25ms/step - loss: 0.2411 - accuracy: 0.9140 - val_loss: 0.3224 - val_accuracy: 0.8825\n",
            "Epoch 63/100\n",
            "30/30 [==============================] - 1s 25ms/step - loss: 0.2434 - accuracy: 0.9126 - val_loss: 0.3084 - val_accuracy: 0.8887\n",
            "Epoch 64/100\n",
            "30/30 [==============================] - 1s 24ms/step - loss: 0.2397 - accuracy: 0.9132 - val_loss: 0.3039 - val_accuracy: 0.8912\n",
            "Epoch 65/100\n",
            "30/30 [==============================] - 1s 25ms/step - loss: 0.2354 - accuracy: 0.9151 - val_loss: 0.3141 - val_accuracy: 0.8879\n",
            "Epoch 66/100\n",
            "30/30 [==============================] - 1s 25ms/step - loss: 0.2374 - accuracy: 0.9152 - val_loss: 0.3079 - val_accuracy: 0.8900\n",
            "Epoch 67/100\n",
            "30/30 [==============================] - 1s 24ms/step - loss: 0.2314 - accuracy: 0.9172 - val_loss: 0.3080 - val_accuracy: 0.8891\n",
            "Epoch 68/100\n",
            "30/30 [==============================] - 1s 25ms/step - loss: 0.2325 - accuracy: 0.9158 - val_loss: 0.3081 - val_accuracy: 0.8886\n",
            "Epoch 69/100\n",
            "30/30 [==============================] - 1s 25ms/step - loss: 0.2299 - accuracy: 0.9174 - val_loss: 0.3077 - val_accuracy: 0.8888\n",
            "Epoch 70/100\n",
            "30/30 [==============================] - 1s 25ms/step - loss: 0.2294 - accuracy: 0.9172 - val_loss: 0.3012 - val_accuracy: 0.8923\n",
            "Epoch 71/100\n",
            "30/30 [==============================] - 1s 24ms/step - loss: 0.2293 - accuracy: 0.9171 - val_loss: 0.3009 - val_accuracy: 0.8909\n",
            "Epoch 72/100\n",
            "30/30 [==============================] - 1s 25ms/step - loss: 0.2299 - accuracy: 0.9168 - val_loss: 0.3037 - val_accuracy: 0.8896\n",
            "Epoch 73/100\n",
            "30/30 [==============================] - 1s 25ms/step - loss: 0.2278 - accuracy: 0.9183 - val_loss: 0.2994 - val_accuracy: 0.8929\n",
            "Epoch 74/100\n",
            "30/30 [==============================] - 1s 25ms/step - loss: 0.2268 - accuracy: 0.9186 - val_loss: 0.2984 - val_accuracy: 0.8926\n",
            "Epoch 75/100\n",
            "30/30 [==============================] - 1s 25ms/step - loss: 0.2240 - accuracy: 0.9184 - val_loss: 0.3113 - val_accuracy: 0.8865\n",
            "Epoch 76/100\n",
            "30/30 [==============================] - 1s 24ms/step - loss: 0.2237 - accuracy: 0.9190 - val_loss: 0.3140 - val_accuracy: 0.8877\n",
            "Epoch 77/100\n",
            "30/30 [==============================] - 1s 24ms/step - loss: 0.2243 - accuracy: 0.9191 - val_loss: 0.3005 - val_accuracy: 0.8925\n",
            "Epoch 78/100\n",
            "30/30 [==============================] - 1s 25ms/step - loss: 0.2206 - accuracy: 0.9203 - val_loss: 0.3009 - val_accuracy: 0.8927\n",
            "Epoch 79/100\n",
            "30/30 [==============================] - 1s 25ms/step - loss: 0.2170 - accuracy: 0.9215 - val_loss: 0.2942 - val_accuracy: 0.8946\n",
            "Epoch 80/100\n",
            "30/30 [==============================] - 1s 25ms/step - loss: 0.2160 - accuracy: 0.9225 - val_loss: 0.3009 - val_accuracy: 0.8924\n",
            "Epoch 81/100\n",
            "30/30 [==============================] - 1s 25ms/step - loss: 0.2144 - accuracy: 0.9231 - val_loss: 0.3039 - val_accuracy: 0.8928\n",
            "Epoch 82/100\n",
            "30/30 [==============================] - 1s 25ms/step - loss: 0.2201 - accuracy: 0.9209 - val_loss: 0.2971 - val_accuracy: 0.8944\n",
            "Epoch 83/100\n",
            "30/30 [==============================] - 1s 24ms/step - loss: 0.2157 - accuracy: 0.9218 - val_loss: 0.2983 - val_accuracy: 0.8933\n",
            "Epoch 84/100\n",
            "30/30 [==============================] - 1s 24ms/step - loss: 0.2121 - accuracy: 0.9234 - val_loss: 0.2961 - val_accuracy: 0.8943\n",
            "Epoch 85/100\n",
            "30/30 [==============================] - 1s 25ms/step - loss: 0.2144 - accuracy: 0.9226 - val_loss: 0.3017 - val_accuracy: 0.8911\n",
            "Epoch 86/100\n",
            "30/30 [==============================] - 1s 24ms/step - loss: 0.2128 - accuracy: 0.9226 - val_loss: 0.3049 - val_accuracy: 0.8899\n",
            "Epoch 87/100\n",
            "30/30 [==============================] - 1s 24ms/step - loss: 0.2093 - accuracy: 0.9242 - val_loss: 0.2999 - val_accuracy: 0.8959\n",
            "Epoch 88/100\n",
            "30/30 [==============================] - 1s 25ms/step - loss: 0.2106 - accuracy: 0.9241 - val_loss: 0.2957 - val_accuracy: 0.8949\n",
            "Epoch 89/100\n",
            "30/30 [==============================] - 1s 24ms/step - loss: 0.2079 - accuracy: 0.9250 - val_loss: 0.3117 - val_accuracy: 0.8890\n"
          ]
        },
        {
          "data": {
            "text/plain": [
              "<keras.callbacks.History at 0x7f0305506b10>"
            ]
          },
          "execution_count": 12,
          "metadata": {},
          "output_type": "execute_result"
        }
      ],
      "source": [
        "# TODO: Compile and fit your model\n",
        "import os\n",
        "\n",
        "# os.environ['KMP_DUPLICATE_LIB_OK']='True' #https://stackoverflow.com/questions/53014306/error-15-initializing-libiomp5-dylib-but-found-libiomp5-dylib-already-initial\n",
        "\n",
        "\n",
        "from tensorflow.keras.callbacks import EarlyStopping\n",
        "from tensorflow.keras.callbacks import TensorBoard\n",
        "\n",
        "model = ...\n",
        "\n",
        "model.compile(...)\n",
        "\n",
        "# Define now our callbacks\n",
        "# callbacks = [EarlyStopping(monitor='val_loss', patience=10), TensorBoard(log_dir='./keras-logs', histogram_freq=0, write_graph=True, write_images=True)]\n",
        "callbacks = [EarlyStopping(monitor='val_loss', patience=10)]\n",
        "\n",
        "# Finally fit the model\n",
        "model.fit(x=X_train_norm, y=y_train_cat, validation_data=(X_test_norm, y_test_cat), epochs=100, batch_size=2048, callbacks=callbacks)"
      ]
    },
    {
      "cell_type": "markdown",
      "metadata": {
        "id": "Rf-SqjjOyO8q"
      },
      "source": [
        "Have a look at the tensorboard and see if it gives a deeper understanding of your model."
      ]
    },
    {
      "cell_type": "markdown",
      "metadata": {
        "id": "k2FTj7TSyO8q"
      },
      "source": [
        "Compute then the accuracy of your model. Is it better than a regular MLP used before?"
      ]
    },
    {
      "cell_type": "code",
      "execution_count": null,
      "metadata": {
        "colab": {
          "base_uri": "https://localhost:8080/"
        },
        "id": "rPjJoMQZyO8q",
        "outputId": "208f6295-df11-4146-8eeb-e81f1c4322d7"
      },
      "outputs": [
        {
          "name": "stdout",
          "output_type": "stream",
          "text": [
            "accuracy on train with NN: 0.91825\n",
            "accuracy on test with NN: 0.889\n"
          ]
        }
      ],
      "source": [
        "# TODO: Compute the accuracy of your model\n",
        "from sklearn.metrics import accuracy_score\n",
        "\n",
        "batch_size = 1024\n",
        "y_pred_train = to_categorical(model.predict(...).argmax(axis=1), num_classes=10)\n",
        "y_pred_test = to_categorical(model.predict(...).argmax(axis=1), num_classes=10)\n",
        "\n",
        "print('accuracy on train with NN:', accuracy_score(y_pred_train, y_train_cat))\n",
        "print('accuracy on test with NN:', accuracy_score(y_pred_test, y_test_cat))"
      ]
    },
    {
      "cell_type": "markdown",
      "metadata": {
        "id": "1vulsgHiyO8q"
      },
      "source": [
        "We will now add image augmentation to improve our results, especially we will try to reduce overfitting this way.\n",
        "\n",
        "To do so, you can use `ImageDataGenerator` from Keras that makes all the work for you (including rescaling), with the following parameter: \n",
        "* `horizontal_flip=True`\n",
        "\n",
        "For more info about how the `ImageDataGenerator` works, you can check out [this article](https://www.pyimagesearch.com/2019/07/08/keras-imagedatagenerator-and-data-augmentation/).\n",
        "\n",
        "Begin by creating an object `ImageDataGenerator` with this parameter."
      ]
    },
    {
      "cell_type": "code",
      "execution_count": null,
      "metadata": {
        "ExecuteTime": {
          "end_time": "2020-08-19T11:58:37.442182Z",
          "start_time": "2020-08-19T11:58:37.438397Z"
        },
        "id": "pas-fMSIyO8q"
      },
      "outputs": [],
      "source": [
        "# TODO: Instantiate an ImageDataGenerator object\n",
        "from tensorflow.keras.preprocessing.image import ImageDataGenerator\n",
        "\n",
        "datagen = ..."
      ]
    },
    {
      "cell_type": "markdown",
      "metadata": {
        "id": "k7nCnu9syO8r"
      },
      "source": [
        "Finally, you can train your model using this generator, with the method `fit_generator` of your model and the method `flow` of your `ImageDataGenerator`."
      ]
    },
    {
      "cell_type": "code",
      "execution_count": null,
      "metadata": {
        "colab": {
          "base_uri": "https://localhost:8080/"
        },
        "id": "Zt6wXa3IyO8r",
        "outputId": "aa6078bb-d14e-4c98-97d0-49cdec4785f2",
        "scrolled": true
      },
      "outputs": [
        {
          "name": "stdout",
          "output_type": "stream",
          "text": [
            "Epoch 1/100\n"
          ]
        },
        {
          "name": "stderr",
          "output_type": "stream",
          "text": [
            "/usr/local/lib/python3.7/dist-packages/ipykernel_launcher.py:5: UserWarning: `Model.fit_generator` is deprecated and will be removed in a future version. Please use `Model.fit`, which supports generators.\n",
            "  \"\"\"\n"
          ]
        },
        {
          "name": "stdout",
          "output_type": "stream",
          "text": [
            "58/58 [==============================] - 3s 46ms/step - loss: 0.4242 - accuracy: 0.8645 - val_loss: 0.3340 - val_accuracy: 0.8764\n",
            "Epoch 2/100\n",
            "58/58 [==============================] - 3s 46ms/step - loss: 0.2834 - accuracy: 0.8981 - val_loss: 0.2995 - val_accuracy: 0.8932\n",
            "Epoch 3/100\n",
            "58/58 [==============================] - 4s 63ms/step - loss: 0.2685 - accuracy: 0.9035 - val_loss: 0.3022 - val_accuracy: 0.8903\n",
            "Epoch 4/100\n",
            "58/58 [==============================] - 3s 56ms/step - loss: 0.2637 - accuracy: 0.9045 - val_loss: 0.2946 - val_accuracy: 0.8955\n",
            "Epoch 5/100\n",
            "58/58 [==============================] - 5s 78ms/step - loss: 0.2530 - accuracy: 0.9085 - val_loss: 0.2954 - val_accuracy: 0.8941\n",
            "Epoch 6/100\n",
            "58/58 [==============================] - 5s 84ms/step - loss: 0.2538 - accuracy: 0.9082 - val_loss: 0.3023 - val_accuracy: 0.8919\n",
            "Epoch 7/100\n",
            "58/58 [==============================] - 4s 61ms/step - loss: 0.2499 - accuracy: 0.9096 - val_loss: 0.2879 - val_accuracy: 0.8969\n",
            "Epoch 8/100\n",
            "58/58 [==============================] - 3s 51ms/step - loss: 0.2434 - accuracy: 0.9128 - val_loss: 0.3027 - val_accuracy: 0.8919\n",
            "Epoch 9/100\n",
            "58/58 [==============================] - 3s 51ms/step - loss: 0.2432 - accuracy: 0.9117 - val_loss: 0.2859 - val_accuracy: 0.8977\n",
            "Epoch 10/100\n",
            "58/58 [==============================] - 3s 51ms/step - loss: 0.2357 - accuracy: 0.9152 - val_loss: 0.2916 - val_accuracy: 0.8944\n",
            "Epoch 11/100\n",
            "58/58 [==============================] - 3s 45ms/step - loss: 0.2348 - accuracy: 0.9143 - val_loss: 0.2927 - val_accuracy: 0.8948\n",
            "Epoch 12/100\n",
            "58/58 [==============================] - 3s 51ms/step - loss: 0.2384 - accuracy: 0.9132 - val_loss: 0.2949 - val_accuracy: 0.8951\n",
            "Epoch 13/100\n",
            "58/58 [==============================] - 3s 51ms/step - loss: 0.2365 - accuracy: 0.9128 - val_loss: 0.2838 - val_accuracy: 0.8976\n",
            "Epoch 14/100\n",
            "58/58 [==============================] - 3s 51ms/step - loss: 0.2292 - accuracy: 0.9169 - val_loss: 0.2905 - val_accuracy: 0.8954\n",
            "Epoch 15/100\n",
            "58/58 [==============================] - 3s 45ms/step - loss: 0.2254 - accuracy: 0.9185 - val_loss: 0.2925 - val_accuracy: 0.8936\n",
            "Epoch 16/100\n",
            "58/58 [==============================] - 3s 45ms/step - loss: 0.2269 - accuracy: 0.9170 - val_loss: 0.2880 - val_accuracy: 0.8970\n",
            "Epoch 17/100\n",
            "58/58 [==============================] - 3s 52ms/step - loss: 0.2222 - accuracy: 0.9186 - val_loss: 0.2861 - val_accuracy: 0.8971\n",
            "Epoch 18/100\n",
            "58/58 [==============================] - 3s 46ms/step - loss: 0.2245 - accuracy: 0.9185 - val_loss: 0.2921 - val_accuracy: 0.8946\n",
            "Epoch 19/100\n",
            "58/58 [==============================] - 3s 51ms/step - loss: 0.2221 - accuracy: 0.9184 - val_loss: 0.2866 - val_accuracy: 0.8968\n",
            "Epoch 20/100\n",
            "58/58 [==============================] - 3s 52ms/step - loss: 0.2230 - accuracy: 0.9190 - val_loss: 0.2868 - val_accuracy: 0.8957\n",
            "Epoch 21/100\n",
            "58/58 [==============================] - 3s 46ms/step - loss: 0.2198 - accuracy: 0.9191 - val_loss: 0.2798 - val_accuracy: 0.8998\n",
            "Epoch 22/100\n",
            "58/58 [==============================] - 3s 46ms/step - loss: 0.2148 - accuracy: 0.9211 - val_loss: 0.2893 - val_accuracy: 0.8971\n",
            "Epoch 23/100\n",
            "58/58 [==============================] - 3s 54ms/step - loss: 0.2128 - accuracy: 0.9223 - val_loss: 0.2885 - val_accuracy: 0.9002\n",
            "Epoch 24/100\n",
            "58/58 [==============================] - 3s 45ms/step - loss: 0.2158 - accuracy: 0.9200 - val_loss: 0.2821 - val_accuracy: 0.9004\n",
            "Epoch 25/100\n",
            "58/58 [==============================] - 3s 47ms/step - loss: 0.2102 - accuracy: 0.9230 - val_loss: 0.2968 - val_accuracy: 0.8954\n",
            "Epoch 26/100\n",
            "58/58 [==============================] - 3s 52ms/step - loss: 0.2125 - accuracy: 0.9217 - val_loss: 0.2822 - val_accuracy: 0.8988\n",
            "Epoch 27/100\n",
            "58/58 [==============================] - 3s 53ms/step - loss: 0.2065 - accuracy: 0.9251 - val_loss: 0.2824 - val_accuracy: 0.8992\n",
            "Epoch 28/100\n",
            "58/58 [==============================] - 3s 45ms/step - loss: 0.2098 - accuracy: 0.9222 - val_loss: 0.2880 - val_accuracy: 0.8986\n",
            "Epoch 29/100\n",
            "58/58 [==============================] - 3s 46ms/step - loss: 0.2121 - accuracy: 0.9217 - val_loss: 0.2921 - val_accuracy: 0.8960\n",
            "Epoch 30/100\n",
            "58/58 [==============================] - 3s 52ms/step - loss: 0.2057 - accuracy: 0.9242 - val_loss: 0.2838 - val_accuracy: 0.8994\n",
            "Epoch 31/100\n",
            "58/58 [==============================] - 3s 47ms/step - loss: 0.2054 - accuracy: 0.9245 - val_loss: 0.2861 - val_accuracy: 0.8985\n"
          ]
        },
        {
          "data": {
            "text/plain": [
              "<keras.callbacks.History at 0x7f0303b98d10>"
            ]
          },
          "execution_count": 17,
          "metadata": {},
          "output_type": "execute_result"
        }
      ],
      "source": [
        "# TODO: train your model\n",
        "batch_size = 1024\n",
        "model.fit_generator(datagen.flow(X_train_norm, y_train_cat, batch_size=batch_size),\n",
        "                    validation_data=(X_test_norm, y_test_cat), callbacks=callbacks,\n",
        "                    steps_per_epoch=len(X_train_norm) / batch_size, epochs=100)"
      ]
    },
    {
      "cell_type": "markdown",
      "metadata": {
        "id": "NuzFke8pyO8r"
      },
      "source": [
        "Recompute the accuracy of your model, does it improve your performances with data augmentation?"
      ]
    },
    {
      "cell_type": "code",
      "execution_count": null,
      "metadata": {
        "colab": {
          "base_uri": "https://localhost:8080/"
        },
        "id": "jsTm86tuyO8r",
        "outputId": "36b5c6a1-63b6-4a92-82ea-961422411014"
      },
      "outputs": [
        {
          "name": "stdout",
          "output_type": "stream",
          "text": [
            "accuracy on train with NN: 0.93155\n",
            "accuracy on test with NN: 0.8985\n"
          ]
        }
      ],
      "source": [
        "# TODO: Compute the accuracy of your model\n",
        "from sklearn.metrics import accuracy_score\n",
        "\n",
        "batch_size=1024\n",
        "y_pred_train = to_categorical(..., num_classes=10)\n",
        "y_pred_test = to_categorical(..., num_classes=10)\n",
        "\n",
        "print('accuracy on train with NN:', accuracy_score(y_pred_train, y_train_cat))\n",
        "print('accuracy on test with NN:', accuracy_score(y_pred_test, y_test_cat))"
      ]
    },
    {
      "cell_type": "markdown",
      "metadata": {
        "id": "jOzkdGf7yO8s"
      },
      "source": [
        "You can now try to improve even more your results. For example, add more parameters to your `ImageDataGenerator`, play with some hyperparameters, and so on..."
      ]
    }
  ],
  "metadata": {
    "accelerator": "GPU",
    "colab": {
      "name": "LeNet5.ipynb",
      "provenance": []
    },
    "kernelspec": {
      "display_name": "Python 3",
      "language": "python",
      "name": "python3"
    },
    "language_info": {
      "codemirror_mode": {
        "name": "ipython",
        "version": 3
      },
      "file_extension": ".py",
      "mimetype": "text/x-python",
      "name": "python",
      "nbconvert_exporter": "python",
      "pygments_lexer": "ipython3",
      "version": "3.7.4"
    },
    "toc": {
      "base_numbering": 1,
      "nav_menu": {},
      "number_sections": true,
      "sideBar": true,
      "skip_h1_title": false,
      "title_cell": "Table of Contents",
      "title_sidebar": "Contents",
      "toc_cell": false,
      "toc_position": {},
      "toc_section_display": true,
      "toc_window_display": false
    },
    "varInspector": {
      "cols": {
        "lenName": 16,
        "lenType": 16,
        "lenVar": 40
      },
      "kernels_config": {
        "python": {
          "delete_cmd_postfix": "",
          "delete_cmd_prefix": "del ",
          "library": "var_list.py",
          "varRefreshCmd": "print(var_dic_list())"
        },
        "r": {
          "delete_cmd_postfix": ") ",
          "delete_cmd_prefix": "rm(",
          "library": "var_list.r",
          "varRefreshCmd": "cat(var_dic_list()) "
        }
      },
      "types_to_exclude": [
        "module",
        "function",
        "builtin_function_or_method",
        "instance",
        "_Feature"
      ],
      "window_display": false
    }
  },
  "nbformat": 4,
  "nbformat_minor": 0
}