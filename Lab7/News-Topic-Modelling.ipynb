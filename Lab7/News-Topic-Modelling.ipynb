{
 "cells": [
  {
   "cell_type": "markdown",
   "metadata": {},
   "source": [
    "# Topic Modelling for News"
   ]
  },
  {
   "cell_type": "markdown",
   "metadata": {},
   "source": [
    "![](https://images.unsplash.com/photo-1495020689067-958852a7765e?ixlib=rb-1.2.1&ixid=eyJhcHBfaWQiOjEyMDd9&auto=format&fit=crop&w=1050&q=80)\n",
    "\n",
    "Photo by [Roman Kraft](https://unsplash.com/photos/_Zua2hyvTBk)"
   ]
  },
  {
   "cell_type": "markdown",
   "metadata": {},
   "source": [
    "This exercise is about modelling the main topics of a database of News headlines."
   ]
  },
  {
   "cell_type": "markdown",
   "metadata": {},
   "source": [
    "Begin by importing the needed libraries:"
   ]
  },
  {
   "cell_type": "code",
   "execution_count": 8,
   "metadata": {},
   "outputs": [
    {
     "name": "stdout",
     "output_type": "stream",
     "text": [
      "Requirement already satisfied: gensim in /opt/anaconda3/lib/python3.8/site-packages (4.2.0)\n",
      "Requirement already satisfied: scipy>=0.18.1 in /opt/anaconda3/lib/python3.8/site-packages (from gensim) (1.6.2)\n",
      "Requirement already satisfied: smart-open>=1.8.1 in /opt/anaconda3/lib/python3.8/site-packages (from gensim) (6.0.0)\n",
      "Requirement already satisfied: numpy>=1.17.0 in /opt/anaconda3/lib/python3.8/site-packages (from gensim) (1.20.1)\n"
     ]
    }
   ],
   "source": [
    "!pip install --upgrade gensim"
   ]
  },
  {
   "cell_type": "code",
   "execution_count": 1,
   "metadata": {},
   "outputs": [],
   "source": [
    "# TODO: import needed libraries\n",
    "import pandas as pd\n",
    "import numpy as np\n",
    "import matplotlib.pyplot as plt\n",
    "from sklearn.feature_extraction.text import CountVectorizer\n",
    "import nltk\n",
    "from nltk.stem import WordNetLemmatizer\n",
    "from nltk.corpus import wordnet\n",
    "from nltk.tokenize import word_tokenize\n",
    "from nltk.corpus import stopwords\n",
    "from nltk.stem import PorterStemmer\n",
    "from gensim.models import TfidfModel\n",
    "from gensim.models import LsiModel\n",
    "from gensim.models import LdaModel\n",
    "from gensim.corpora import Dictionary"
   ]
  },
  {
   "cell_type": "markdown",
   "metadata": {},
   "source": [
    "Load the data in the file `random_headlines.csv`"
   ]
  },
  {
   "cell_type": "code",
   "execution_count": 2,
   "metadata": {
    "scrolled": true
   },
   "outputs": [
    {
     "name": "stdout",
     "output_type": "stream",
     "text": [
      "<class 'pandas.core.frame.DataFrame'>\n",
      "RangeIndex: 20000 entries, 0 to 19999\n",
      "Data columns (total 2 columns):\n",
      " #   Column         Non-Null Count  Dtype \n",
      "---  ------         --------------  ----- \n",
      " 0   publish_date   20000 non-null  int64 \n",
      " 1   headline_text  20000 non-null  object\n",
      "dtypes: int64(1), object(1)\n",
      "memory usage: 312.6+ KB\n"
     ]
    },
    {
     "data": {
      "text/html": [
       "<div>\n",
       "<style scoped>\n",
       "    .dataframe tbody tr th:only-of-type {\n",
       "        vertical-align: middle;\n",
       "    }\n",
       "\n",
       "    .dataframe tbody tr th {\n",
       "        vertical-align: top;\n",
       "    }\n",
       "\n",
       "    .dataframe thead th {\n",
       "        text-align: right;\n",
       "    }\n",
       "</style>\n",
       "<table border=\"1\" class=\"dataframe\">\n",
       "  <thead>\n",
       "    <tr style=\"text-align: right;\">\n",
       "      <th></th>\n",
       "      <th>publish_date</th>\n",
       "      <th>headline_text</th>\n",
       "    </tr>\n",
       "  </thead>\n",
       "  <tbody>\n",
       "    <tr>\n",
       "      <th>0</th>\n",
       "      <td>20120305</td>\n",
       "      <td>ute driver hurt in intersection crash</td>\n",
       "    </tr>\n",
       "    <tr>\n",
       "      <th>1</th>\n",
       "      <td>20081128</td>\n",
       "      <td>6yo dies in cycling accident</td>\n",
       "    </tr>\n",
       "    <tr>\n",
       "      <th>2</th>\n",
       "      <td>20090325</td>\n",
       "      <td>bumper olive harvest expected</td>\n",
       "    </tr>\n",
       "    <tr>\n",
       "      <th>3</th>\n",
       "      <td>20100201</td>\n",
       "      <td>replica replaces northernmost sign</td>\n",
       "    </tr>\n",
       "    <tr>\n",
       "      <th>4</th>\n",
       "      <td>20080225</td>\n",
       "      <td>woods targets perfect season</td>\n",
       "    </tr>\n",
       "  </tbody>\n",
       "</table>\n",
       "</div>"
      ],
      "text/plain": [
       "   publish_date                          headline_text\n",
       "0      20120305  ute driver hurt in intersection crash\n",
       "1      20081128           6yo dies in cycling accident\n",
       "2      20090325          bumper olive harvest expected\n",
       "3      20100201     replica replaces northernmost sign\n",
       "4      20080225           woods targets perfect season"
      ]
     },
     "execution_count": 2,
     "metadata": {},
     "output_type": "execute_result"
    }
   ],
   "source": [
    "# TODO: load the dataset\n",
    "df = pd.read_csv(\"random_headlines.csv\")\n",
    "df.info()\n",
    "df.head()"
   ]
  },
  {
   "cell_type": "markdown",
   "metadata": {},
   "source": [
    "This is always a good idea to perform some EDA (exploratory data analytics) on a dataset..."
   ]
  },
  {
   "cell_type": "code",
   "execution_count": 3,
   "metadata": {},
   "outputs": [
    {
     "name": "stdout",
     "output_type": "stream",
     "text": [
      "<class 'pandas.core.frame.DataFrame'>\n",
      "RangeIndex: 20000 entries, 0 to 19999\n",
      "Data columns (total 2 columns):\n",
      " #   Column         Non-Null Count  Dtype \n",
      "---  ------         --------------  ----- \n",
      " 0   publish_date   20000 non-null  int64 \n",
      " 1   headline_text  20000 non-null  object\n",
      "dtypes: int64(1), object(1)\n",
      "memory usage: 312.6+ KB\n"
     ]
    }
   ],
   "source": [
    "# TODO: Perform a short EDA\n",
    "df.info()"
   ]
  },
  {
   "cell_type": "markdown",
   "metadata": {},
   "source": [
    "Now perform all the needed preprocessing on those headlines: case lowering, tokenization, punctuation removal, stopwords removal, stemming/lemmatization."
   ]
  },
  {
   "cell_type": "code",
   "execution_count": 4,
   "metadata": {},
   "outputs": [
    {
     "data": {
      "text/plain": [
       "0    [ute, driver, hurt, intersect, crash]\n",
       "1                       [die, cycl, accid]\n",
       "2          [bumper, oliv, harvest, expect]\n",
       "3    [replica, replac, northernmost, sign]\n",
       "4          [wood, target, perfect, season]\n",
       "Name: stem, dtype: object"
      ]
     },
     "execution_count": 4,
     "metadata": {},
     "output_type": "execute_result"
    }
   ],
   "source": [
    "# TODO: Preprocess the input data\n",
    "df[\"tokenize\"] = df[\"headline_text\"].apply(lambda row: word_tokenize(row))\n",
    "df[\"alpha\"] = df[\"tokenize\"].apply(lambda row:[word for word in row if word.isalpha()])\n",
    "\n",
    "stop_words = set(stopwords.words('english'))\n",
    "df[\"stop\"] = df[\"alpha\"].apply(lambda row:[word for word in row if word not in stop_words])\n",
    "\n",
    "stemmer = PorterStemmer()\n",
    "\n",
    "df[\"stem\"] = df[\"stop\"].apply(lambda row:[stemmer.stem(word) for word in row ])\n",
    "df[\"stem\"].head()"
   ]
  },
  {
   "cell_type": "markdown",
   "metadata": {},
   "source": [
    "Now use Gensim to compute a BOW"
   ]
  },
  {
   "cell_type": "code",
   "execution_count": 5,
   "metadata": {},
   "outputs": [
    {
     "data": {
      "text/plain": [
       "0                 [(0, 1), (1, 1), (2, 1), (3, 1), (4, 1)]\n",
       "1                                 [(5, 1), (6, 1), (7, 1)]\n",
       "2                       [(8, 1), (9, 1), (10, 1), (11, 1)]\n",
       "3                     [(12, 1), (13, 1), (14, 1), (15, 1)]\n",
       "4                     [(16, 1), (17, 1), (18, 1), (19, 1)]\n",
       "                               ...                        \n",
       "19995    [(121, 1), (743, 1), (983, 1), (9722, 1), (122...\n",
       "19996    [(378, 1), (610, 1), (1442, 1), (1663, 1), (22...\n",
       "19997                       [(154, 1), (446, 1), (535, 1)]\n",
       "19998         [(163, 1), (3943, 1), (6310, 1), (12209, 1)]\n",
       "19999    [(948, 1), (1741, 1), (1993, 1), (2717, 1), (3...\n",
       "Name: BOW, Length: 20000, dtype: object"
      ]
     },
     "execution_count": 5,
     "metadata": {},
     "output_type": "execute_result"
    }
   ],
   "source": [
    "# TODO: Compute the BOW using Gensim\n",
    "dct = Dictionary(df[\"stem\"])\n",
    "df['BOW'] = df[\"stem\"].apply(lambda document: dct.doc2bow(document)) \n",
    "df['BOW']"
   ]
  },
  {
   "cell_type": "code",
   "execution_count": 6,
   "metadata": {},
   "outputs": [
    {
     "name": "stdout",
     "output_type": "stream",
     "text": [
      "(20000,)\n"
     ]
    },
    {
     "name": "stderr",
     "output_type": "stream",
     "text": [
      "/opt/anaconda3/lib/python3.8/site-packages/numpy/core/_asarray.py:102: VisibleDeprecationWarning: Creating an ndarray from ragged nested sequences (which is a list-or-tuple of lists-or-tuples-or ndarrays with different lengths or shapes) is deprecated. If you meant to do this, you must specify 'dtype=object' when creating the ndarray.\n",
      "  return array(a, dtype, copy=False, order=order)\n"
     ]
    },
    {
     "data": {
      "text/plain": [
       "[[(0, 1), (1, 1), (2, 1), (3, 1), (4, 1)], [(5, 1), (6, 1), (7, 1)]]"
      ]
     },
     "execution_count": 6,
     "metadata": {},
     "output_type": "execute_result"
    }
   ],
   "source": [
    "corpus_bow = [dct.doc2bow(document) for document in df[\"stem\"]]\n",
    "print(np.shape(corpus_bow))\n",
    "corpus_bow[:2]"
   ]
  },
  {
   "cell_type": "markdown",
   "metadata": {},
   "source": [
    "Compute the TF-IDF using Gensim"
   ]
  },
  {
   "cell_type": "code",
   "execution_count": 7,
   "metadata": {},
   "outputs": [
    {
     "name": "stdout",
     "output_type": "stream",
     "text": [
      "(20000,)\n"
     ]
    },
    {
     "data": {
      "text/plain": [
       "<gensim.interfaces.TransformedCorpus at 0x7fd687596df0>"
      ]
     },
     "execution_count": 7,
     "metadata": {},
     "output_type": "execute_result"
    }
   ],
   "source": [
    "# TODO: Compute TF-IDF\n",
    "tfidf_model = TfidfModel(df['BOW'].to_list())\n",
    "tfidf = tfidf_model[df['BOW'].to_list()]\n",
    "\n",
    "print(np.shape(tfidf))\n",
    "tfidf"
   ]
  },
  {
   "cell_type": "markdown",
   "metadata": {},
   "source": [
    "Finally compute the **LSA** (also called LSI) using Gensim, for a given number of Topics that you choose yourself"
   ]
  },
  {
   "cell_type": "code",
   "execution_count": 40,
   "metadata": {},
   "outputs": [
    {
     "data": {
      "text/plain": [
       "[(0, 0.30725466582280214),\n",
       " (1, 0.3528943781678455),\n",
       " (2, 0.42129048115131124),\n",
       " (3, 0.5992666854471201),\n",
       " (4, 0.49442279315598586)]"
      ]
     },
     "execution_count": 40,
     "metadata": {},
     "output_type": "execute_result"
    }
   ],
   "source": [
    "tfidf[0]"
   ]
  },
  {
   "cell_type": "code",
   "execution_count": 8,
   "metadata": {},
   "outputs": [
    {
     "data": {
      "text/plain": [
       "<gensim.models.lsimodel.LsiModel at 0x7fd687596c40>"
      ]
     },
     "execution_count": 8,
     "metadata": {},
     "output_type": "execute_result"
    }
   ],
   "source": [
    "# TODO: Compute LSA\n",
    "lsi_model = LsiModel(df['BOW'].to_list(),id2word=dct, num_topics = 4)\n",
    "lsi_model"
   ]
  },
  {
   "cell_type": "markdown",
   "metadata": {},
   "source": [
    "For each of the topic, show the most significant words."
   ]
  },
  {
   "cell_type": "code",
   "execution_count": 9,
   "metadata": {},
   "outputs": [
    {
     "data": {
      "text/plain": [
       "[(0, '0.752*\"polic\" + 0.405*\"man\" + 0.208*\"charg\"'),\n",
       " (1, '-0.670*\"man\" + 0.575*\"polic\" + -0.329*\"charg\"'),\n",
       " (2, '0.656*\"new\" + 0.296*\"plan\" + 0.241*\"say\"'),\n",
       " (3, '0.702*\"new\" + -0.339*\"say\" + -0.333*\"plan\"')]"
      ]
     },
     "execution_count": 9,
     "metadata": {},
     "output_type": "execute_result"
    }
   ],
   "source": [
    "# TODO: Print the 3 or 4 most significant words of each topic\n",
    "lsi_model.print_topics(num_words=3)"
   ]
  },
  {
   "cell_type": "markdown",
   "metadata": {},
   "source": [
    "What do you think about those results?"
   ]
  },
  {
   "cell_type": "markdown",
   "metadata": {},
   "source": [
    "There is only a slightly difference between the topics, with the significant words being more or less the same."
   ]
  },
  {
   "cell_type": "markdown",
   "metadata": {},
   "source": [
    "Now let's try to use LDA instead of LSA using Gensim"
   ]
  },
  {
   "cell_type": "code",
   "execution_count": 10,
   "metadata": {},
   "outputs": [
    {
     "data": {
      "text/plain": [
       "<gensim.models.ldamodel.LdaModel at 0x7fd687eef5e0>"
      ]
     },
     "execution_count": 10,
     "metadata": {},
     "output_type": "execute_result"
    }
   ],
   "source": [
    "# TODO: Compute LDA\n",
    "lda_model = LdaModel(df['BOW'].to_list(),id2word=dct, num_topics = 4)\n",
    "lda_model"
   ]
  },
  {
   "cell_type": "code",
   "execution_count": 11,
   "metadata": {
    "scrolled": true
   },
   "outputs": [
    {
     "data": {
      "text/plain": [
       "[(0, '0.010*\"kill\" + 0.008*\"interview\" + 0.007*\"win\"'),\n",
       " (1, '0.013*\"charg\" + 0.013*\"man\" + 0.013*\"polic\"'),\n",
       " (2, '0.009*\"polic\" + 0.009*\"new\" + 0.007*\"council\"'),\n",
       " (3, '0.005*\"fire\" + 0.005*\"report\" + 0.005*\"water\"')]"
      ]
     },
     "execution_count": 11,
     "metadata": {},
     "output_type": "execute_result"
    }
   ],
   "source": [
    "# TODO: print the most frequent words of each topic\n",
    "lda_model.print_topics(num_words=3)"
   ]
  },
  {
   "cell_type": "markdown",
   "metadata": {},
   "source": [
    "Now, how does it work with LDA?"
   ]
  },
  {
   "cell_type": "markdown",
   "metadata": {},
   "source": [
    "Let's make some visualization of the LDA results using pyLDAvis."
   ]
  },
  {
   "cell_type": "code",
   "execution_count": 49,
   "metadata": {},
   "outputs": [
    {
     "name": "stdout",
     "output_type": "stream",
     "text": [
      "Collecting pyLDAvis\n",
      "  Downloading pyLDAvis-3.3.1.tar.gz (1.7 MB)\n",
      "\u001b[K     |████████████████████████████████| 1.7 MB 6.6 MB/s eta 0:00:01\n",
      "\u001b[?25h  Installing build dependencies ... \u001b[?25ldone\n",
      "\u001b[?25h  Getting requirements to build wheel ... \u001b[?25ldone\n",
      "\u001b[?25h  Installing backend dependencies ... \u001b[?25ldone\n",
      "\u001b[?25h    Preparing wheel metadata ... \u001b[?25ldone\n",
      "\u001b[?25hRequirement already satisfied: setuptools in /opt/anaconda3/lib/python3.8/site-packages (from pyLDAvis) (52.0.0.post20210125)\n",
      "Requirement already satisfied: scipy in /opt/anaconda3/lib/python3.8/site-packages (from pyLDAvis) (1.6.2)\n",
      "Collecting funcy\n",
      "  Downloading funcy-1.17-py2.py3-none-any.whl (33 kB)\n",
      "Requirement already satisfied: numexpr in /opt/anaconda3/lib/python3.8/site-packages (from pyLDAvis) (2.7.3)\n",
      "Collecting sklearn\n",
      "  Downloading sklearn-0.0.tar.gz (1.1 kB)\n",
      "Requirement already satisfied: scikit-learn in /opt/anaconda3/lib/python3.8/site-packages (from pyLDAvis) (0.24.1)\n",
      "Requirement already satisfied: pandas>=1.2.0 in /opt/anaconda3/lib/python3.8/site-packages (from pyLDAvis) (1.2.4)\n",
      "Requirement already satisfied: numpy>=1.20.0 in /opt/anaconda3/lib/python3.8/site-packages (from pyLDAvis) (1.20.1)\n",
      "Requirement already satisfied: gensim in /opt/anaconda3/lib/python3.8/site-packages (from pyLDAvis) (4.2.0)\n",
      "Requirement already satisfied: jinja2 in /opt/anaconda3/lib/python3.8/site-packages (from pyLDAvis) (2.11.3)\n",
      "Requirement already satisfied: future in /opt/anaconda3/lib/python3.8/site-packages (from pyLDAvis) (0.18.2)\n",
      "Requirement already satisfied: joblib in /opt/anaconda3/lib/python3.8/site-packages (from pyLDAvis) (1.0.1)\n",
      "Requirement already satisfied: python-dateutil>=2.7.3 in /opt/anaconda3/lib/python3.8/site-packages (from pandas>=1.2.0->pyLDAvis) (2.8.1)\n",
      "Requirement already satisfied: pytz>=2017.3 in /opt/anaconda3/lib/python3.8/site-packages (from pandas>=1.2.0->pyLDAvis) (2021.1)\n",
      "Requirement already satisfied: six>=1.5 in /opt/anaconda3/lib/python3.8/site-packages (from python-dateutil>=2.7.3->pandas>=1.2.0->pyLDAvis) (1.15.0)\n",
      "Requirement already satisfied: smart-open>=1.8.1 in /opt/anaconda3/lib/python3.8/site-packages (from gensim->pyLDAvis) (6.0.0)\n",
      "Requirement already satisfied: MarkupSafe>=0.23 in /opt/anaconda3/lib/python3.8/site-packages (from jinja2->pyLDAvis) (1.1.1)\n",
      "Requirement already satisfied: threadpoolctl>=2.0.0 in /opt/anaconda3/lib/python3.8/site-packages (from scikit-learn->pyLDAvis) (2.1.0)\n",
      "Building wheels for collected packages: pyLDAvis, sklearn\n",
      "  Building wheel for pyLDAvis (PEP 517) ... \u001b[?25ldone\n",
      "\u001b[?25h  Created wheel for pyLDAvis: filename=pyLDAvis-3.3.1-py2.py3-none-any.whl size=136900 sha256=474cce18e90ea672085985dd1f5bb7c758c0d73e1b1f48b8ec801cbed6a1be33\n",
      "  Stored in directory: /Users/laravaroni/Library/Caches/pip/wheels/90/61/ec/9dbe9efc3acf9c4e37ba70fbbcc3f3a0ebd121060aa593181a\n",
      "  Building wheel for sklearn (setup.py) ... \u001b[?25ldone\n",
      "\u001b[?25h  Created wheel for sklearn: filename=sklearn-0.0-py2.py3-none-any.whl size=1316 sha256=43261be86c046788abdb2a6db3903e9e6102e6c157a5993a370776d065dc973b\n",
      "  Stored in directory: /Users/laravaroni/Library/Caches/pip/wheels/22/0b/40/fd3f795caaa1fb4c6cb738bc1f56100be1e57da95849bfc897\n",
      "Successfully built pyLDAvis sklearn\n",
      "Installing collected packages: sklearn, funcy, pyLDAvis\n",
      "Successfully installed funcy-1.17 pyLDAvis-3.3.1 sklearn-0.0\n",
      "Note: you may need to restart the kernel to use updated packages.\n"
     ]
    }
   ],
   "source": [
    "pip install pyLDAvis"
   ]
  },
  {
   "cell_type": "code",
   "execution_count": 14,
   "metadata": {},
   "outputs": [
    {
     "name": "stderr",
     "output_type": "stream",
     "text": [
      "/opt/anaconda3/lib/python3.8/site-packages/ipykernel/ipkernel.py:287: DeprecationWarning: `should_run_async` will not call `transform_cell` automatically in the future. Please pass the result to `transformed_cell` argument and any exception that happen during thetransform in `preprocessing_exc_tuple` in IPython 7.17 and above.\n",
      "  and should_run_async(code)\n"
     ]
    },
    {
     "data": {
      "text/html": [
       "\n",
       "<link rel=\"stylesheet\" type=\"text/css\" href=\"https://cdn.jsdelivr.net/gh/bmabey/pyLDAvis@3.3.1/pyLDAvis/js/ldavis.v1.0.0.css\">\n",
       "\n",
       "\n",
       "<div id=\"ldavis_el461921405588957637443956516039\"></div>\n",
       "<script type=\"text/javascript\">\n",
       "\n",
       "var ldavis_el461921405588957637443956516039_data = {\"mdsDat\": {\"x\": [0.07383542881579917, 0.10006810993530295, -0.23466593364726585, 0.060762394896163835], \"y\": [-0.025661603876880767, -0.16133988557115442, -0.022601267175500282, 0.20960275662353547], \"topics\": [1, 2, 3, 4], \"cluster\": [1, 1, 1, 1], \"Freq\": [28.29379083508889, 24.899638843165807, 23.522182692708615, 23.284387629036686]}, \"tinfo\": {\"Term\": [\"charg\", \"kill\", \"man\", \"polic\", \"court\", \"murder\", \"accus\", \"found\", \"interview\", \"news\", \"second\", \"road\", \"abc\", \"day\", \"coast\", \"search\", \"mayor\", \"welcom\", \"countri\", \"gold\", \"rural\", \"centr\", \"state\", \"win\", \"get\", \"water\", \"face\", \"price\", \"nsw\", \"fire\", \"start\", \"compani\", \"studi\", \"pressur\", \"celebr\", \"way\", \"oil\", \"team\", \"tri\", \"search\", \"problem\", \"se\", \"uni\", \"ad\", \"alic\", \"chanc\", \"gain\", \"link\", \"finish\", \"ask\", \"zealand\", \"mayor\", \"survivor\", \"disput\", \"spring\", \"march\", \"scam\", \"robberi\", \"keen\", \"roar\", \"ga\", \"japanes\", \"sex\", \"mental\", \"israel\", \"despit\", \"suspect\", \"damag\", \"alleg\", \"drought\", \"reject\", \"author\", \"approv\", \"arrest\", \"coal\", \"week\", \"child\", \"victim\", \"nsw\", \"defend\", \"council\", \"health\", \"worker\", \"new\", \"plan\", \"site\", \"futur\", \"mine\", \"polic\", \"govt\", \"home\", \"urg\", \"nt\", \"miss\", \"chang\", \"help\", \"say\", \"school\", \"call\", \"claim\", \"get\", \"fire\", \"take\", \"man\", \"sydney\", \"hous\", \"slam\", \"plane\", \"second\", \"hunter\", \"collaps\", \"worri\", \"evid\", \"indonesia\", \"refus\", \"seeker\", \"bulldog\", \"effort\", \"toll\", \"jet\", \"dump\", \"smash\", \"criticis\", \"flight\", \"comment\", \"asylum\", \"bail\", \"gp\", \"front\", \"holiday\", \"qanta\", \"option\", \"prompt\", \"class\", \"wall\", \"brother\", \"charg\", \"centr\", \"accus\", \"murder\", \"grain\", \"dog\", \"road\", \"flu\", \"opposit\", \"hold\", \"driver\", \"defenc\", \"court\", \"rais\", \"question\", \"man\", \"die\", \"begin\", \"face\", \"polic\", \"death\", \"crash\", \"concern\", \"fund\", \"wa\", \"hit\", \"drug\", \"govt\", \"famili\", \"plan\", \"interview\", \"say\", \"call\", \"open\", \"warn\", \"condit\", \"found\", \"good\", \"level\", \"third\", \"tough\", \"fiji\", \"drum\", \"kangaroo\", \"late\", \"point\", \"militari\", \"member\", \"staff\", \"troop\", \"traffic\", \"ash\", \"coalit\", \"legal\", \"terror\", \"brace\", \"andrew\", \"updat\", \"crackdown\", \"suspend\", \"round\", \"tim\", \"held\", \"net\", \"obama\", \"state\", \"free\", \"kill\", \"welcom\", \"respons\", \"gold\", \"england\", \"pakistan\", \"day\", \"coast\", \"iraq\", \"titl\", \"uk\", \"tasmanian\", \"tiger\", \"pay\", \"hand\", \"interview\", \"final\", \"win\", \"test\", \"one\", \"battl\", \"tour\", \"first\", \"australia\", \"game\", \"us\", \"elect\", \"stand\", \"two\", \"get\", \"world\", \"budget\", \"year\", \"take\", \"cup\", \"warn\", \"lead\", \"aussi\", \"say\", \"hit\", \"australian\", \"miss\", \"back\", \"care\", \"higher\", \"abc\", \"clark\", \"news\", \"age\", \"major\", \"theft\", \"revamp\", \"closer\", \"korea\", \"hawk\", \"stock\", \"await\", \"quarter\", \"expert\", \"cat\", \"strike\", \"tip\", \"export\", \"music\", \"pilot\", \"thousand\", \"tourism\", \"peter\", \"reform\", \"africa\", \"board\", \"manag\", \"neglect\", \"earli\", \"struggl\", \"slow\", \"countri\", \"rule\", \"challeng\", \"ahead\", \"marin\", \"knight\", \"china\", \"fatal\", \"hunt\", \"chief\", \"rural\", \"east\", \"profit\", \"ta\", \"sport\", \"hour\", \"show\", \"guilti\", \"close\", \"indigen\", \"price\", \"live\", \"go\", \"market\", \"water\", \"south\", \"report\", \"fire\", \"share\", \"keep\", \"fall\", \"rise\", \"rate\", \"nation\", \"new\", \"us\", \"trial\", \"work\", \"set\"], \"Freq\": [339.0, 264.0, 466.0, 631.0, 288.0, 200.0, 152.0, 132.0, 284.0, 121.0, 122.0, 135.0, 111.0, 157.0, 144.0, 126.0, 120.0, 106.0, 103.0, 108.0, 111.0, 100.0, 97.0, 262.0, 179.0, 207.0, 245.0, 123.0, 184.0, 250.0, 76.64265220076351, 73.71277695422245, 91.08302921055632, 54.89016122589953, 48.72960432312295, 44.00754925069159, 42.35552339534678, 46.831302850674234, 38.48509419862277, 124.24738869750189, 35.980094150891944, 36.963273831863575, 34.28989640280978, 34.48821722796647, 46.29147605171822, 34.253755433189916, 32.191723034137944, 52.819427284372466, 30.933929431131858, 30.137385164101815, 30.63199773458529, 117.86324777285257, 28.574088008084626, 34.23718026198978, 27.80091794272458, 27.845532356133305, 27.396826758280586, 27.6573306645462, 26.217576825856504, 26.3169568890216, 60.22412228213887, 28.86102263841586, 101.54985276276588, 48.64236924778523, 31.326509235210256, 52.06995582770285, 60.42526139328555, 52.844960820272206, 83.32957301114824, 79.434911285846, 101.30929144015727, 55.49093937305878, 57.51390438082741, 108.02367195312553, 59.77064181845419, 44.94167926602204, 79.47379957742015, 77.84645906878625, 138.61843046515722, 74.00149920240585, 215.94172238718247, 128.41668124103757, 90.34452338702522, 257.48593423759, 205.1917117815756, 64.35096481535525, 77.43245488440023, 123.53067897065598, 267.79772502643164, 165.17451081025416, 107.20768016106862, 125.8348339011024, 86.58798470915099, 112.41306114306431, 113.02848829473987, 97.90937069645076, 155.21420151109012, 86.91566959218405, 119.65392045779379, 92.44978978002919, 93.97271177896192, 99.58156723413882, 97.26751788956926, 112.304202312271, 89.12686839431785, 86.69034188257649, 56.05945987841167, 47.22743249285388, 121.14385567094533, 67.53750543253064, 39.478274774891105, 39.27017872928649, 39.05730963397563, 36.86660769490126, 34.92589460592501, 32.910475110923265, 38.79954115893573, 35.32450819444657, 46.03278424625006, 31.203231064494794, 62.030958427862, 29.984655118242035, 29.83207514236728, 46.890785282356795, 36.73315560420449, 47.264632541935235, 65.68216004752188, 27.97960845649601, 45.19976068334137, 27.23716280508464, 26.593833025112442, 27.409043150176597, 35.99687179640145, 27.024219363205138, 26.132473906527117, 25.69902448980673, 328.6054573974679, 97.3483442210335, 147.0386108850616, 193.0691290478997, 40.9373945831628, 64.98372459087868, 130.02185897454595, 42.539453104288874, 89.59587064610969, 66.30332265459037, 96.94731882982548, 55.773635982232314, 245.82175466483545, 50.600417357236964, 93.83403545126674, 327.5791178867989, 108.3539024621741, 74.06973175033882, 163.9190290318802, 324.97696419373136, 136.1402009186353, 135.85875454841707, 91.21339027964873, 95.74520024000537, 92.99383000982807, 93.59663198830688, 76.44640717005527, 104.73577019624231, 63.238311016113876, 90.03220768355578, 83.884852734523, 81.03357855927901, 77.4586505713114, 71.2363126470178, 69.65650159308954, 45.032379757330474, 130.61902501169118, 48.56149636885961, 41.851487410337995, 38.075297097753584, 43.00298845910534, 34.152863381958895, 40.42353812109692, 30.924824562078086, 30.75033035852429, 30.644252199199396, 35.65903333885756, 31.805108375765464, 42.68827128443516, 40.83045246816903, 31.441286612868907, 32.93079713798186, 29.137298434295975, 27.529053638526822, 41.033593590090256, 30.765191807790128, 25.833839866401814, 26.016349138907486, 24.919543280264254, 48.12505296824625, 24.6092901590692, 24.338280815718093, 32.06641423220463, 25.373331593499017, 29.49484692380678, 93.6192979134125, 51.19785004427436, 249.181655761584, 101.28896318583087, 50.03771867941162, 102.35940331642875, 57.52861392109612, 75.79557692826262, 138.08878834007177, 127.16449377191226, 85.91497652792354, 51.33889053556774, 43.775988903309965, 51.70714544911487, 50.362187099904425, 76.06541477362812, 48.14061113573854, 185.6419086874414, 100.46793694291179, 167.60282872727822, 103.90996096678681, 74.02409217577501, 51.71011773896803, 53.555836694744954, 76.89869539115922, 113.55996913615769, 56.08771634836426, 124.77146893708561, 93.12695973121255, 55.634591041183704, 79.81037637732047, 85.28659287461824, 72.21022560407674, 66.18779325463191, 76.3990529049723, 85.49750184289486, 62.204261845333754, 77.19158674364674, 64.84939192292364, 60.73980508289617, 80.48100700114745, 69.68307127326747, 67.64113623761853, 66.9100428328654, 66.24861001336666, 49.17697424088314, 49.37505552514832, 110.19742280054953, 39.85095208390505, 119.02265760553254, 37.17860118096478, 37.80902793359712, 43.74230324158784, 34.293085137890095, 36.087363187716484, 49.63378926083463, 32.34499013526436, 48.17256297107685, 30.408964442091523, 29.329170045248446, 30.01817466293051, 29.76633489455612, 76.19945730730466, 34.66773430136802, 62.681814034379485, 28.4841376219986, 27.310172021007265, 37.6700250848198, 52.48107284622305, 25.884313813650856, 25.706711422199295, 25.733400169392716, 30.17540383754983, 40.658138601084744, 26.526150791325872, 41.147045748014676, 29.601243983111146, 30.106489192952544, 99.09739569648966, 74.09419709183781, 51.036343133348815, 81.33749026495904, 33.80681432860103, 36.70318718828957, 85.24693426303367, 63.1618165894043, 55.7438132095852, 79.98670093764215, 101.67494412034024, 63.30485737304927, 54.58858562866152, 71.08048495955583, 55.145014165802586, 72.01575076617392, 96.05888864183856, 82.00179173151896, 77.92678128008313, 87.15387959469754, 102.77079292351317, 64.78636788933918, 69.54497957867206, 124.58783287994432, 127.90025207834483, 87.30375594576998, 127.97700621219275, 130.9847226230046, 70.8134584402777, 65.9718076771514, 80.37887562834868, 91.2572112091445, 82.21572441299188, 83.17576289440406, 122.48243361713354, 98.07342880823343, 73.866821313154, 70.98055997631587, 71.68296041511189], \"Total\": [339.0, 264.0, 466.0, 631.0, 288.0, 200.0, 152.0, 132.0, 284.0, 121.0, 122.0, 135.0, 111.0, 157.0, 144.0, 126.0, 120.0, 106.0, 103.0, 108.0, 111.0, 100.0, 97.0, 262.0, 179.0, 207.0, 245.0, 123.0, 184.0, 250.0, 77.35965033435485, 74.41892510042267, 91.95920137762755, 55.61294753629875, 49.457151039144534, 44.71555369467656, 43.05227731047323, 47.7091312526653, 39.21163422021671, 126.67478789212517, 36.68448191390525, 37.69209353478734, 34.99370274422066, 35.19824120888243, 47.292100084473184, 35.00529774432962, 32.92582982521552, 54.02673792715673, 31.65420902167521, 30.84575661631713, 31.354516965015513, 120.64784968405971, 29.284606523187833, 35.09884752927902, 28.501093770243713, 28.55298081126658, 28.104612668296795, 28.385990461220064, 26.91753304755433, 27.03467492567391, 62.3284631472888, 29.657409958094476, 106.43578724945911, 50.35649665814543, 32.22467437939803, 54.77194421283359, 64.8269680146096, 56.219505041137204, 91.6789875792301, 87.19329931380939, 113.6277885351154, 59.49505593653085, 61.990483595138805, 125.31085374488941, 65.15828754465453, 47.617702727360616, 93.13311581972566, 91.20078340732205, 184.70828300000053, 87.55591769951819, 329.0582289210928, 179.2706331859294, 114.66946637253804, 482.5960140866318, 366.3762433372401, 74.09607942818607, 98.14723048200975, 198.0021993522697, 631.1143704878646, 310.22965277194464, 164.6136399327927, 217.24049921579842, 118.90540455915112, 187.08576800579252, 191.65341170101993, 158.92574103519348, 385.1073262914506, 131.2006143739385, 313.2141164792308, 158.20739748195192, 179.79913647694585, 250.42266829207418, 226.30902742044842, 466.2497478356843, 177.1440734276378, 197.1071628021748, 56.78484769941473, 47.935204053734736, 122.96738494730111, 68.59999150978875, 40.200537056590946, 39.98897326040552, 39.783781383879976, 37.56725907330501, 35.632532393183254, 33.60435327077095, 39.6236371524003, 36.0766502847275, 47.05587474332791, 31.923790674604362, 63.495621808595466, 30.69512532863948, 30.540702105804613, 48.01080401799595, 37.61621308528675, 48.43849346765899, 67.31655482152095, 28.679592789948508, 46.387250344780036, 27.957203483547232, 27.29770598714682, 28.140607652814808, 36.96696511284816, 27.75334829901115, 26.844726580468166, 26.40311409944985, 339.6929721458133, 100.17601693038613, 152.10950008281395, 200.7445130788848, 42.09247367160773, 67.13896240594354, 135.97474020583277, 43.861613961742464, 94.7088461264673, 69.54185734237998, 104.17260931660125, 58.44478599337093, 288.05212702954185, 53.02052198532974, 104.70163125675299, 466.2497478356843, 136.90181760879506, 87.64767993150414, 245.93225225240764, 631.1143704878646, 206.8743026359185, 214.36783334471156, 153.7217367807388, 194.9084350186455, 188.61453169235668, 201.91873445665826, 136.7579690532669, 310.22965277194464, 93.56138055167064, 366.3762433372401, 284.48352655643475, 385.1073262914506, 313.2141164792308, 172.64602578669587, 208.3072772005595, 45.751550390785354, 132.7202135243171, 49.34460599863284, 42.55925929566143, 38.76907281503233, 43.804855672288646, 34.85879191971245, 41.29642176322743, 31.632287827517736, 31.455403240759438, 31.35420799148942, 36.49253768417177, 32.55358314766323, 43.70119384353525, 41.809556723005784, 32.197982312310295, 33.725751533147445, 29.840718968006453, 28.237133521246253, 42.1218869270771, 31.590035811266716, 26.542570359609588, 26.750471113199914, 25.62945028644401, 49.52084441020375, 25.328711230759883, 25.05057311983326, 33.021787093884214, 26.12976358761755, 30.396716338943563, 97.10394033113441, 52.796802322161646, 264.98828105867227, 106.0811404775974, 52.119023133210796, 108.21393384785664, 60.31136860462764, 80.5699623026724, 157.0993471254642, 144.05643463898627, 94.75406893206247, 54.620952802644325, 46.56043546059956, 56.43479162156367, 55.1430063242071, 89.37773066445764, 52.67590057024091, 284.48352655643475, 132.94849439356656, 262.4766459254943, 149.1258979412045, 97.46548288682227, 58.674570874709914, 62.05321084528309, 110.71277216109723, 209.7623270132423, 67.70649108975138, 263.6995080236245, 166.49698105516765, 67.47638904012258, 143.0080749391625, 179.79913647694585, 123.41499351032077, 104.10488788583308, 151.80320406035, 226.30902742044842, 94.298684018329, 208.3072772005595, 116.4483088982484, 97.13885217087136, 385.1073262914506, 201.91873445665826, 202.42007329070208, 187.08576800579252, 230.40664328898288, 49.87687589208352, 50.07986442996196, 111.87129774615764, 40.559126660596775, 121.14084881686023, 37.87467437179843, 38.52141792485711, 44.642358663903146, 35.001024747002425, 36.874796536003764, 50.72727911857378, 33.07514360610034, 49.2700891084922, 31.128009428985333, 30.026075397856125, 30.732153169771383, 30.47630379983633, 78.02342043546258, 35.50316185035476, 64.220132196588, 29.19433801065593, 28.02181011876485, 38.67826066623095, 53.892493972974925, 26.593870174299454, 26.411745202831504, 26.442990650294508, 31.01125219333184, 41.788352507267916, 27.264910113909636, 42.40498433840837, 30.426935136634068, 30.95753248111462, 103.13499343777339, 77.23599967784303, 52.941819864115864, 85.24094367499475, 34.83988939231859, 37.93119415730355, 91.35676116058902, 66.98284937264725, 58.814676560418626, 86.27899913395147, 111.5689539645061, 67.65319164365154, 58.07648272240268, 77.4638008691994, 58.88883074289725, 79.35856927753427, 110.4475403236009, 92.68376121281048, 87.86264843566283, 101.0571116176135, 123.05490667911266, 71.9549020108902, 80.2667869006577, 175.5932219019328, 207.61029286191788, 120.90986479775955, 223.32727876056774, 250.42266829207418, 92.54846822657322, 82.54547167785518, 120.06991122776029, 155.99205252014724, 133.9795421785882, 143.21771120836402, 482.5960140866318, 263.6995080236245, 140.6225800639279, 118.54411845317996, 196.9358000170891], \"Category\": [\"Default\", \"Default\", \"Default\", \"Default\", \"Default\", \"Default\", \"Default\", \"Default\", \"Default\", \"Default\", \"Default\", \"Default\", \"Default\", \"Default\", \"Default\", \"Default\", \"Default\", \"Default\", \"Default\", \"Default\", \"Default\", \"Default\", \"Default\", \"Default\", \"Default\", \"Default\", \"Default\", \"Default\", \"Default\", \"Default\", \"Topic1\", \"Topic1\", \"Topic1\", \"Topic1\", \"Topic1\", \"Topic1\", \"Topic1\", \"Topic1\", \"Topic1\", \"Topic1\", \"Topic1\", \"Topic1\", \"Topic1\", \"Topic1\", \"Topic1\", \"Topic1\", \"Topic1\", \"Topic1\", \"Topic1\", \"Topic1\", \"Topic1\", \"Topic1\", \"Topic1\", \"Topic1\", \"Topic1\", \"Topic1\", \"Topic1\", \"Topic1\", \"Topic1\", \"Topic1\", \"Topic1\", \"Topic1\", \"Topic1\", \"Topic1\", \"Topic1\", \"Topic1\", \"Topic1\", \"Topic1\", \"Topic1\", \"Topic1\", \"Topic1\", \"Topic1\", \"Topic1\", \"Topic1\", \"Topic1\", \"Topic1\", \"Topic1\", \"Topic1\", \"Topic1\", \"Topic1\", \"Topic1\", \"Topic1\", \"Topic1\", \"Topic1\", \"Topic1\", \"Topic1\", \"Topic1\", \"Topic1\", \"Topic1\", \"Topic1\", \"Topic1\", \"Topic1\", \"Topic1\", \"Topic1\", \"Topic1\", \"Topic1\", \"Topic1\", \"Topic1\", \"Topic1\", \"Topic1\", \"Topic1\", \"Topic1\", \"Topic1\", \"Topic1\", \"Topic1\", \"Topic1\", \"Topic2\", \"Topic2\", \"Topic2\", \"Topic2\", \"Topic2\", \"Topic2\", \"Topic2\", \"Topic2\", \"Topic2\", \"Topic2\", \"Topic2\", \"Topic2\", \"Topic2\", \"Topic2\", \"Topic2\", \"Topic2\", \"Topic2\", \"Topic2\", \"Topic2\", \"Topic2\", \"Topic2\", \"Topic2\", \"Topic2\", \"Topic2\", \"Topic2\", \"Topic2\", \"Topic2\", \"Topic2\", \"Topic2\", \"Topic2\", \"Topic2\", \"Topic2\", \"Topic2\", \"Topic2\", \"Topic2\", \"Topic2\", \"Topic2\", \"Topic2\", \"Topic2\", \"Topic2\", \"Topic2\", \"Topic2\", \"Topic2\", \"Topic2\", \"Topic2\", \"Topic2\", \"Topic2\", \"Topic2\", \"Topic2\", \"Topic2\", \"Topic2\", \"Topic2\", \"Topic2\", \"Topic2\", \"Topic2\", \"Topic2\", \"Topic2\", \"Topic2\", \"Topic2\", \"Topic2\", \"Topic2\", \"Topic2\", \"Topic2\", \"Topic2\", \"Topic2\", \"Topic3\", \"Topic3\", \"Topic3\", \"Topic3\", \"Topic3\", \"Topic3\", \"Topic3\", \"Topic3\", \"Topic3\", \"Topic3\", \"Topic3\", \"Topic3\", \"Topic3\", \"Topic3\", \"Topic3\", \"Topic3\", \"Topic3\", \"Topic3\", \"Topic3\", \"Topic3\", \"Topic3\", \"Topic3\", \"Topic3\", \"Topic3\", \"Topic3\", \"Topic3\", \"Topic3\", \"Topic3\", \"Topic3\", \"Topic3\", \"Topic3\", \"Topic3\", \"Topic3\", \"Topic3\", \"Topic3\", \"Topic3\", \"Topic3\", \"Topic3\", \"Topic3\", \"Topic3\", \"Topic3\", \"Topic3\", \"Topic3\", \"Topic3\", \"Topic3\", \"Topic3\", \"Topic3\", \"Topic3\", \"Topic3\", \"Topic3\", \"Topic3\", \"Topic3\", \"Topic3\", \"Topic3\", \"Topic3\", \"Topic3\", \"Topic3\", \"Topic3\", \"Topic3\", \"Topic3\", \"Topic3\", \"Topic3\", \"Topic3\", \"Topic3\", \"Topic3\", \"Topic3\", \"Topic3\", \"Topic3\", \"Topic3\", \"Topic3\", \"Topic3\", \"Topic3\", \"Topic3\", \"Topic3\", \"Topic3\", \"Topic4\", \"Topic4\", \"Topic4\", \"Topic4\", \"Topic4\", \"Topic4\", \"Topic4\", \"Topic4\", \"Topic4\", \"Topic4\", \"Topic4\", \"Topic4\", \"Topic4\", \"Topic4\", \"Topic4\", \"Topic4\", \"Topic4\", \"Topic4\", \"Topic4\", \"Topic4\", \"Topic4\", \"Topic4\", \"Topic4\", \"Topic4\", \"Topic4\", \"Topic4\", \"Topic4\", \"Topic4\", \"Topic4\", \"Topic4\", \"Topic4\", \"Topic4\", \"Topic4\", \"Topic4\", \"Topic4\", \"Topic4\", \"Topic4\", \"Topic4\", \"Topic4\", \"Topic4\", \"Topic4\", \"Topic4\", \"Topic4\", \"Topic4\", \"Topic4\", \"Topic4\", \"Topic4\", \"Topic4\", \"Topic4\", \"Topic4\", \"Topic4\", \"Topic4\", \"Topic4\", \"Topic4\", \"Topic4\", \"Topic4\", \"Topic4\", \"Topic4\", \"Topic4\", \"Topic4\", \"Topic4\", \"Topic4\", \"Topic4\", \"Topic4\", \"Topic4\", \"Topic4\", \"Topic4\", \"Topic4\", \"Topic4\", \"Topic4\", \"Topic4\", \"Topic4\"], \"logprob\": [30.0, 29.0, 28.0, 27.0, 26.0, 25.0, 24.0, 23.0, 22.0, 21.0, 20.0, 19.0, 18.0, 17.0, 16.0, 15.0, 14.0, 13.0, 12.0, 11.0, 10.0, 9.0, 8.0, 7.0, 6.0, 5.0, 4.0, 3.0, 2.0, 1.0, -5.9368, -5.9758, -5.7642, -6.2707, -6.3897, -6.4916, -6.5299, -6.4294, -6.6257, -5.4537, -6.693, -6.6661, -6.7411, -6.7354, -6.441, -6.7422, -6.8043, -6.3091, -6.8441, -6.8702, -6.854, -5.5065, -6.9235, -6.7427, -6.9509, -6.9493, -6.9656, -6.9561, -7.0096, -7.0058, -6.1779, -6.9135, -5.6554, -6.3915, -6.8315, -6.3234, -6.1746, -6.3086, -5.8532, -5.9011, -5.6578, -6.2598, -6.224, -5.5936, -6.1855, -6.4706, -5.9006, -5.9213, -5.3443, -5.9719, -4.901, -5.4207, -5.7724, -4.725, -4.9521, -6.1116, -5.9266, -5.4595, -4.6858, -5.169, -5.6012, -5.441, -5.8148, -5.5538, -5.5484, -5.692, -5.2312, -5.8111, -5.4914, -5.7493, -5.733, -5.675, -5.6985, -5.5548, -5.7859, -5.8137, -6.1218, -6.2932, -5.3512, -5.9355, -6.4725, -6.4777, -6.4832, -6.5409, -6.595, -6.6544, -6.4898, -6.5836, -6.3189, -6.7077, -6.0206, -6.7475, -6.7526, -6.3004, -6.5445, -6.2924, -5.9634, -6.8167, -6.3371, -6.8436, -6.8675, -6.8373, -6.5648, -6.8515, -6.885, -6.9018, -4.3534, -5.5699, -5.1575, -4.8852, -6.4362, -5.9741, -5.2805, -6.3978, -5.6529, -5.954, -5.574, -6.1269, -4.6436, -6.2242, -5.6067, -4.3565, -5.4628, -5.8432, -5.0488, -4.3645, -5.2345, -5.2366, -5.635, -5.5865, -5.6157, -5.6092, -5.8116, -5.4968, -6.0013, -5.648, -5.7188, -5.7533, -5.7985, -5.8822, -5.9046, -6.2839, -5.219, -6.2085, -6.3572, -6.4517, -6.33, -6.5605, -6.3919, -6.6597, -6.6654, -6.6689, -6.5173, -6.6317, -6.3374, -6.3819, -6.6432, -6.5969, -6.7193, -6.7761, -6.3769, -6.6649, -6.8396, -6.8326, -6.8756, -6.2175, -6.8882, -6.8992, -6.6235, -6.8576, -6.7071, -5.5521, -6.1556, -4.5731, -5.4733, -6.1785, -5.4628, -6.039, -5.7633, -5.1634, -5.2458, -5.6379, -6.1529, -6.3122, -6.1457, -6.1721, -5.7597, -6.2172, -4.8675, -5.4815, -4.9697, -5.4478, -5.7869, -6.1456, -6.1106, -5.7488, -5.359, -6.0644, -5.2648, -5.5573, -6.0725, -5.7116, -5.6453, -5.8117, -5.8988, -5.7553, -5.6428, -5.9609, -5.745, -5.9192, -5.9847, -5.7033, -5.8473, -5.8771, -5.8879, -5.8979, -6.1857, -6.1817, -5.3789, -6.396, -5.3018, -6.4654, -6.4486, -6.3028, -6.5462, -6.4952, -6.1765, -6.6047, -6.2063, -6.6664, -6.7026, -6.6793, -6.6878, -5.7478, -6.5353, -5.9431, -6.7318, -6.7739, -6.4523, -6.1207, -6.8275, -6.8344, -6.8333, -6.6741, -6.3759, -6.803, -6.364, -6.6933, -6.6764, -5.485, -5.7758, -6.1486, -5.6825, -6.5605, -6.4783, -5.6356, -5.9354, -6.0604, -5.6993, -5.4594, -5.9332, -6.0813, -5.8173, -6.0712, -5.8043, -5.5162, -5.6744, -5.7254, -5.6135, -5.4486, -5.91, -5.8392, -5.2561, -5.2299, -5.6117, -5.2293, -5.2061, -5.8211, -5.8919, -5.6944, -5.5675, -5.6718, -5.6602, -5.2732, -5.4954, -5.7789, -5.8187, -5.8089], \"loglift\": [30.0, 29.0, 28.0, 27.0, 26.0, 25.0, 24.0, 23.0, 22.0, 21.0, 20.0, 19.0, 18.0, 17.0, 16.0, 15.0, 14.0, 13.0, 12.0, 11.0, 10.0, 9.0, 8.0, 7.0, 6.0, 5.0, 4.0, 3.0, 2.0, 1.0, 1.2532, 1.253, 1.253, 1.2494, 1.2477, 1.2466, 1.2462, 1.244, 1.2438, 1.2432, 1.2431, 1.243, 1.2422, 1.2421, 1.2411, 1.2408, 1.24, 1.2399, 1.2395, 1.2393, 1.2392, 1.2392, 1.238, 1.2377, 1.2377, 1.2374, 1.237, 1.2365, 1.2362, 1.2356, 1.2282, 1.2353, 1.2155, 1.2279, 1.2343, 1.2119, 1.1922, 1.2006, 1.167, 1.1693, 1.1478, 1.1929, 1.1876, 1.1141, 1.1762, 1.2047, 1.1039, 1.1042, 0.9755, 1.0943, 0.8413, 0.9289, 1.0241, 0.6343, 0.6828, 1.1215, 1.0255, 0.7907, 0.4053, 0.6322, 0.8337, 0.7165, 0.9454, 0.7531, 0.7345, 0.7781, 0.3538, 0.8507, 0.3002, 0.7253, 0.6137, 0.3404, 0.4181, -0.161, 0.5756, 0.4411, 1.3775, 1.3754, 1.3754, 1.3747, 1.3722, 1.3722, 1.3719, 1.3715, 1.3703, 1.3695, 1.3693, 1.3692, 1.3683, 1.3675, 1.367, 1.3669, 1.3668, 1.3667, 1.3666, 1.3658, 1.3657, 1.3656, 1.3644, 1.3642, 1.3642, 1.364, 1.3637, 1.3637, 1.3634, 1.3633, 1.3571, 1.3617, 1.3564, 1.3513, 1.3625, 1.3577, 1.3456, 1.3597, 1.3348, 1.3426, 1.3184, 1.3435, 1.2318, 1.3436, 1.2807, 1.0373, 1.1565, 1.222, 0.9846, 0.7266, 0.9719, 0.9342, 0.8684, 0.6795, 0.6831, 0.6214, 0.8087, 0.3044, 0.9986, -0.0132, 0.1691, -0.1683, -0.0068, 0.5051, 0.2949, 1.4314, 1.4313, 1.4312, 1.4305, 1.4292, 1.4288, 1.4268, 1.4259, 1.4246, 1.4246, 1.4243, 1.4241, 1.424, 1.4238, 1.4235, 1.4234, 1.4234, 1.4234, 1.4218, 1.421, 1.4208, 1.4202, 1.4194, 1.4191, 1.4186, 1.4184, 1.4184, 1.4179, 1.4178, 1.4171, 1.4107, 1.4165, 1.3857, 1.401, 1.4065, 1.3916, 1.4, 1.3861, 1.3182, 1.3225, 1.3493, 1.3853, 1.3856, 1.3597, 1.3565, 1.2859, 1.3572, 1.0204, 1.1671, 0.9987, 1.086, 1.1721, 1.3209, 1.3, 1.0828, 0.8336, 1.259, 0.6989, 0.8662, 1.2543, 0.864, 0.7014, 0.9113, 0.9943, 0.7606, 0.4738, 1.0312, 0.4545, 0.8618, 0.9777, -0.1183, 0.3833, 0.3511, 0.419, 0.2008, 1.4433, 1.4432, 1.4423, 1.4398, 1.4397, 1.4388, 1.4387, 1.437, 1.437, 1.4358, 1.4356, 1.4351, 1.4349, 1.434, 1.4339, 1.4339, 1.4338, 1.4337, 1.4336, 1.4331, 1.4328, 1.4317, 1.431, 1.4308, 1.4303, 1.4303, 1.4302, 1.4301, 1.43, 1.4299, 1.4273, 1.4299, 1.4295, 1.4175, 1.4159, 1.4207, 1.4105, 1.4273, 1.4245, 1.3882, 1.3987, 1.4038, 1.3817, 1.3645, 1.391, 1.3955, 1.3714, 1.3917, 1.3603, 1.3178, 1.3349, 1.3374, 1.3094, 1.2773, 1.3524, 1.314, 1.1142, 0.973, 1.1317, 0.9006, 0.8093, 1.1897, 1.2333, 1.0561, 0.9213, 0.969, 0.914, 0.0862, 0.4683, 0.8136, 0.9445, 0.4468]}, \"token.table\": {\"Topic\": [2, 4, 1, 2, 4, 1, 4, 4, 1, 2, 3, 4, 1, 2, 1, 2, 4, 3, 1, 3, 1, 3, 4, 3, 1, 1, 2, 1, 2, 3, 4, 1, 2, 3, 4, 1, 2, 3, 4, 1, 2, 4, 1, 2, 3, 4, 1, 2, 1, 2, 3, 4, 1, 2, 3, 4, 4, 3, 2, 1, 3, 4, 2, 1, 2, 3, 4, 4, 4, 1, 1, 2, 1, 4, 1, 1, 2, 3, 4, 1, 2, 3, 4, 1, 3, 4, 1, 3, 4, 1, 2, 3, 4, 1, 2, 3, 4, 4, 2, 2, 4, 4, 1, 2, 4, 3, 1, 2, 3, 4, 2, 2, 1, 1, 2, 3, 4, 3, 1, 2, 3, 4, 1, 2, 4, 1, 2, 3, 4, 3, 1, 2, 3, 4, 2, 2, 3, 4, 1, 3, 4, 1, 2, 3, 4, 1, 2, 3, 4, 1, 2, 1, 2, 3, 4, 1, 4, 1, 2, 4, 1, 1, 2, 1, 2, 3, 4, 1, 4, 1, 2, 3, 4, 3, 2, 4, 1, 4, 1, 2, 3, 4, 2, 1, 2, 3, 2, 3, 2, 4, 1, 4, 1, 2, 3, 4, 1, 2, 3, 4, 1, 2, 3, 4, 1, 4, 3, 1, 3, 4, 1, 1, 2, 3, 4, 1, 3, 4, 1, 2, 2, 3, 4, 3, 4, 2, 4, 1, 2, 3, 4, 1, 2, 1, 2, 1, 1, 2, 3, 4, 1, 3, 1, 2, 4, 1, 2, 3, 4, 3, 1, 2, 3, 4, 2, 2, 4, 2, 3, 4, 2, 3, 4, 1, 2, 3, 4, 3, 1, 2, 3, 4, 4, 1, 2, 3, 1, 2, 2, 1, 3, 4, 1, 2, 4, 1, 2, 3, 4, 3, 4, 1, 2, 2, 4, 2, 1, 2, 3, 4, 1, 2, 3, 1, 1, 2, 3, 1, 1, 2, 4, 1, 2, 3, 4, 1, 4, 4, 3, 2, 3, 4, 3, 3, 1, 2, 2, 4, 4, 1, 2, 3, 4, 3, 4, 1, 2, 4, 1, 2, 3, 4, 1, 3, 3, 1, 2, 3, 1, 2, 3, 4, 1, 2, 3, 4, 1, 2, 3, 4, 4, 1, 2, 3, 4, 4, 3, 1, 2, 3, 4, 2, 3, 4, 1, 2, 3, 4, 1, 2, 3, 3, 1, 1, 2, 3, 4, 1, 2, 3, 1, 2, 3, 2, 1, 2, 3, 2, 3, 4, 4, 4, 1, 2, 3, 4, 2, 3, 1, 2, 3, 4, 1, 2, 3, 4, 1, 1, 2, 3, 4, 2, 4, 2, 4, 1, 2, 3, 1, 2, 1, 3, 4, 4, 2, 1, 2, 3, 4, 1, 2, 3, 4, 1, 2, 3, 4, 1, 2, 3, 4, 1, 2, 3, 4, 1, 1, 3, 1, 4, 1, 2, 4, 1, 2, 3, 4, 1, 1, 3, 4, 1, 1, 3, 2, 4, 2, 1, 2, 3, 4, 1, 2, 3, 1, 2, 4, 1, 3, 4, 1, 2, 4, 2, 4, 2, 2, 3, 4, 1, 2, 4, 1, 2, 3, 3, 4, 1, 2, 3, 1, 4, 2, 4, 4, 1, 1, 1, 2, 3, 1, 3, 1, 2, 3, 4, 1, 2, 3, 4, 1, 2, 3, 2, 3, 4, 1, 3, 4, 2, 3, 4, 4, 3, 2, 4, 3, 4, 3, 4, 3, 4, 2, 3, 1, 2, 3, 4, 2, 4, 3, 1, 1, 2, 3, 4, 1, 3, 1, 2, 3, 4, 3, 4, 1, 3, 1, 2, 3, 4, 1, 2, 3, 4, 1, 2, 3, 4, 1, 2, 3, 4, 2, 1, 2, 3, 4, 1, 2, 4, 1, 1, 2, 1, 3, 1, 2, 3, 4, 1, 2, 4, 1, 2, 3, 4, 1, 2, 3, 4, 2, 1, 2, 3, 4, 1], \"Freq\": [0.008938843297134687, 0.9832727626848156, 0.026296845350370978, 0.9664090666261335, 0.0065742113375927445, 0.9659573556027553, 0.9832473317351653, 0.9769060886646272, 0.01173145154062094, 0.01173145154062094, 0.02346290308124188, 0.9502475747902962, 0.9726783102851166, 0.021145180658372103, 0.9053328597053975, 0.08726099852582145, 0.010907624815727681, 0.9795584846434002, 0.9356274808049452, 0.06452603315896173, 0.8618567089158037, 0.11970232068275051, 0.023940464136550103, 0.9784807898962863, 0.9725811032344809, 0.02064473786055447, 0.9703026794460601, 0.11323996273551322, 0.010294542066864839, 0.6279670660787551, 0.2470690096047561, 0.1144152066852542, 0.12394980724235873, 0.5434722317549575, 0.2192958128134039, 0.08892398716875086, 0.28653284754375274, 0.3359350626375032, 0.2914730690531278, 0.9244465634030807, 0.06723247733840587, 0.9637622369795683, 0.3298516002625781, 0.2734296160071371, 0.28645007391223887, 0.10850381587584805, 0.014855186850416507, 0.9804423321274895, 0.017043158306778907, 0.06817263322711563, 0.8862442319525031, 0.034086316613557814, 0.10268383609279125, 0.8442893189851725, 0.01140931512142125, 0.03422794536426375, 0.9673907977972821, 0.9813220910925249, 0.984732327484876, 0.019211393822289168, 0.6339759961355426, 0.34580508880120503, 0.9842609816458376, 0.3831244943519561, 0.24583821720917184, 0.14686438950158318, 0.2234892883719744, 0.9824191897267026, 0.9843713396819831, 0.9907566240768154, 0.01996485846896699, 0.968295635744899, 0.018888659335222498, 0.9633216260963474, 0.9712815542472436, 0.5896059923852566, 0.005217752145002271, 0.13566155577005903, 0.27132311154011807, 0.02943834821436193, 0.9685216562525075, 0.002943834821436193, 0.002943834821436193, 0.05795152992256328, 0.011590305984512656, 0.9272244787610124, 0.8482482230371997, 0.010737319278951895, 0.13958515062637464, 0.010946097336377513, 0.021892194672755026, 0.03283829200913254, 0.9304182735920885, 0.5815151596213776, 0.1453787899053444, 0.08849143733368789, 0.18330369161978208, 0.9862145290929065, 0.9728555887781658, 0.1024326054385923, 0.8877492471344666, 0.9762765732103869, 0.92083451332082, 0.061388967554721334, 0.015347241888680333, 0.9718264506660237, 0.03470861966374698, 0.07635896326024334, 0.8815989394591732, 0.006941723932749395, 0.9701362930823304, 0.9836184178378184, 0.9943707182029657, 0.013010521751082624, 0.5919787396742594, 0.006505260875541312, 0.3903156525324787, 0.9835732257297073, 0.6564187764220787, 0.1580267424719819, 0.06989644378568431, 0.11548108103721755, 0.009696030092864174, 0.029088090278592525, 0.9599069791935534, 0.09720462851200677, 0.8540120933554881, 0.017357969377144067, 0.034715938754288134, 0.9754403516497996, 0.20058979618856518, 0.6344235414336016, 0.051313668792423654, 0.11195709554710616, 0.9822956884248628, 0.021209203721350517, 0.657485315361866, 0.3181380558202578, 0.9427333086838561, 0.01778742091856332, 0.03557484183712664, 0.025461595310166896, 0.03182699413770862, 0.8784250382007579, 0.06365398827541724, 0.1740187134955906, 0.6574040287611199, 0.0870093567477953, 0.0773416504424847, 0.03422033233600768, 0.9581693054082151, 0.845174169197329, 0.011421272556720662, 0.011421272556720662, 0.13705527068064793, 0.9493911663595083, 0.03651504485998109, 0.04382702950771151, 0.7888865311388071, 0.1606991081949422, 0.9686927746455956, 0.029788962002530856, 0.9681412650822528, 0.019198904713249552, 0.9311468785926033, 0.019198904713249552, 0.038397809426499105, 0.9060329247971035, 0.08028139839974335, 0.2193656443400024, 0.5557262989946727, 0.16818032732733518, 0.05118531701266723, 0.9686069226370156, 0.9764452766034177, 0.01574911736457125, 0.02358213345911435, 0.9668674718236884, 0.014781268639435111, 0.029562537278870222, 0.029562537278870222, 0.931219924284412, 0.9701565894773971, 0.15615898759981164, 0.28829351556888305, 0.5585686864147109, 0.033161243829683905, 0.9616760710608333, 0.9802989721787091, 0.9761763139169976, 0.015571441007608667, 0.981000783479346, 0.09352169058491121, 0.666850315475019, 0.20737418347089007, 0.032529283681708245, 0.01665696242754944, 0.23319747398569218, 0.08328481213774722, 0.6662784971019777, 0.021376341266100395, 0.6733547498821625, 0.28858060709235533, 0.021376341266100395, 0.04478758410694102, 0.9405392662457613, 0.9753636924168101, 0.007521709851333152, 0.7521709851333153, 0.23317300539132774, 0.9793326372101971, 0.39932487215321705, 0.0678852282660469, 0.00798649744306434, 0.5231155825207143, 0.18064763088849556, 0.695493378920708, 0.11742096007752212, 0.020828645144646375, 0.9789463217983796, 0.9803560816869623, 0.9870387977939629, 0.015069294622808593, 0.9659675919159325, 0.018940541017959462, 0.9700941458165963, 0.02155764768481325, 0.22061641404019533, 0.4925389708804361, 0.0051306142800045425, 0.28218378540024985, 0.7845356371427515, 0.20377549016694846, 0.9626420574210791, 0.032088068580702636, 0.9718813518101069, 0.014769632629084338, 0.13292669366175905, 0.827099427228723, 0.029539265258168676, 0.5228056254433282, 0.47274976768811594, 0.01245845309888449, 0.12458453098884491, 0.8720917169219143, 0.018481908280054762, 0.009240954140027381, 0.9425773222827929, 0.027722862420082144, 0.9930163390372925, 0.5318640514396425, 0.33845894182522707, 0.0354576034293095, 0.09670255480720773, 0.9763039595810897, 0.9740458667235653, 0.023757216261550373, 0.05394688276104309, 0.0647362593132517, 0.8847288772811067, 0.07593605342667435, 0.9112326411200923, 0.9674939096590335, 0.7140042834971504, 0.0446252677185719, 0.0055781584648214875, 0.2342826555225025, 0.9690571836412375, 0.6166401953620483, 0.05663022202304525, 0.08179920958884314, 0.23910538187507993, 0.978437153489659, 0.18819452341682877, 0.4655338210837343, 0.3466741220836319, 0.04313948626982888, 0.9490686979362354, 0.9657618300732208, 0.6500068891234361, 0.3219660291919823, 0.02429932295788546, 0.07560620175770418, 0.01260103362628403, 0.90727442109245, 0.44138426408844883, 0.25874249963805623, 0.010146764691688478, 0.29425617605896587, 0.05100767657743023, 0.952143296112031, 0.014577261279359004, 0.9912537669964123, 0.1286401302383374, 0.8608993331334888, 0.9849001740532064, 0.021090852158041365, 0.29527193021257914, 0.6538164168992823, 0.03163627823706205, 0.031660909487179534, 0.06332181897435907, 0.9076127386324799, 0.9619957562649262, 0.9778331972001807, 0.9710626258635618, 0.9800113153065175, 0.9659131820908939, 0.07268720958329257, 0.12114534930548762, 0.7995593054162182, 0.03396376611087669, 0.02264251074058446, 0.939664195734255, 0.0037737517900974095, 0.026363525383696698, 0.9754504391967778, 0.9856629582502585, 0.9855222571055985, 0.18033752657026245, 0.5581875822412885, 0.2576250379575178, 0.9916020682103646, 0.9868592803324836, 0.9809957445785259, 0.01850935367129294, 0.09728315659356422, 0.9033435969402392, 0.9864642073696708, 0.24021460712826173, 0.7034856351613379, 0.040750692280687256, 0.017158186223447267, 0.023930113057844957, 0.9811346353716432, 0.9806331669915044, 0.02870273176643544, 0.975892880058805, 0.07403474837576807, 0.16515443868440569, 0.05125482579860866, 0.7118725805362314, 0.978053071886539, 0.01657717070994134, 0.9829947092105905, 0.9730621320352314, 0.019858410857861865, 0.9865030574624739, 0.6262556699150048, 0.010100897901854916, 0.11616032587133154, 0.25252244754637293, 0.5986559062928415, 0.010690284040943597, 0.3581245153716105, 0.026725710102358993, 0.004981456203522926, 0.9614210472799248, 0.029888737221137558, 0.004981456203522926, 0.9590900807471642, 0.1117180261086702, 0.2932598185352593, 0.013964753263583774, 0.5795372604387267, 0.9902838442231106, 0.956763344458542, 0.5325365160472821, 0.10567845260082254, 0.10567845260082254, 0.2527994356333402, 0.008254853831442043, 0.008254853831442043, 0.9823276059416032, 0.7525379898637226, 0.23279952204417317, 0.005413942373120306, 0.010827884746240612, 0.73167405907711, 0.22707125971358585, 0.042050233280293677, 0.9540504203358926, 0.9755581498538466, 0.030780127601518426, 0.1333805529399132, 0.7592431475041211, 0.07182029773687633, 0.23748012624776832, 0.41124607228272075, 0.34753189206990487, 0.04223470313067368, 0.9502808204401578, 0.01055867578266842, 0.9594675542587042, 0.024823146776297583, 0.03723472016444637, 0.9432795774993081, 0.11188469348748688, 0.8503236705049002, 0.03356540804624606, 0.9776689075186441, 0.9635351851135201, 0.5595340956954533, 0.24564911518336974, 0.08188303839445658, 0.11190681913909066, 0.980490245693199, 0.9887030158253219, 0.42464569423895454, 0.5149621292076874, 0.030105478322910956, 0.030105478322910956, 0.9889783303447696, 0.02437936105890542, 0.13814971266713072, 0.8370247296890861, 0.9813413771111267, 0.0344373472057479, 0.01721867360287395, 0.01721867360287395, 0.9470270481580672, 0.9738424533932843, 0.027051179260924565, 0.9890941023657082, 0.9658271890595004, 0.0668566469879954, 0.8977892595530811, 0.03820379827885451, 0.03772124311702138, 0.9618916994840452, 0.3657274775180631, 0.022391478215391617, 0.6120337378873709, 0.9844105264658027, 0.9822484580606383, 0.8888670747014238, 0.008800664105954691, 0.0880066410595469, 0.008800664105954691, 0.2865749332333704, 0.11642106662605672, 0.022388666658857064, 0.5731498664667408, 0.019186852321543022, 0.019186852321543022, 0.9593426160771511, 0.9714001303036661, 0.12821165999733794, 0.15385399199680552, 0.13462224299720482, 0.5833630529878876, 0.007354307119735935, 0.9560599255656715, 0.01470861423947187, 0.022062921359207805, 0.9617278577042805, 0.986402078809003, 0.9870221888604942, 0.03884199094351362, 0.958102443273336, 0.00896306691481695, 0.08066760223335255, 0.914232825311329, 0.4024852019634014, 0.2103309765099065, 0.207734297787562, 0.1765741531194277, 0.9606963923917426, 0.6631066509493537, 0.09908490186599539, 0.23627938137275825, 0.9816382304647371, 0.9788846072953129, 0.015788461407988917, 0.9840007580209642, 0.008132237669594745, 0.982015625597633, 0.2742010340187724, 0.10663373545174482, 0.2538898463136781, 0.3656013786916965, 0.9583242876847171, 0.009395336153771737, 0.03758134461508695, 0.021610298239660597, 0.21610298239660597, 0.7671655875079512, 0.018108144320282626, 0.10864886592169576, 0.8691909273735661, 0.8637434057766687, 0.06747995357630225, 0.06747995357630225, 0.9861785717279854, 0.969069483115337, 0.9773538853092446, 0.14887122758848323, 0.12405935632373603, 0.719544266677669, 0.016981148842399336, 0.03396229768479867, 0.9339631863319634, 0.9824184371911061, 0.02288267006115053, 0.9839548126294728, 0.8299199289799202, 0.16301998604962717, 0.99535093123094, 0.030894729809827406, 0.9680348673745921, 0.020296289657565077, 0.9742219035631237, 0.01281666446329605, 0.9740664992104997, 0.98596851326902, 0.989569272424533, 0.9902813608589045, 0.9255407407990794, 0.04627703703995397, 0.01542567901331799, 0.020193516728360762, 0.9692888029613166, 0.5024159051889248, 0.3161268616919077, 0.15806343084595384, 0.02258049012085055, 0.05163702213314001, 0.012909255533285003, 0.025818511066570005, 0.9165571428632352, 0.42861745775518034, 0.19000567714920366, 0.3755926176205189, 0.053158697211414946, 0.9214174183311924, 0.017719565737138315, 0.9851363620748034, 0.9733657010898076, 0.023740626855848965, 0.16764358401286333, 0.6973973094935115, 0.13411486721029067, 0.9856110052620821, 0.9801627235528282, 0.025854316682680505, 0.9824640339418592, 0.9067332982541907, 0.07253866386033525, 0.9580619128030452, 0.9858276890245558, 0.9337076228653955, 0.05492397781561151, 0.9775612556543192, 0.9816263366255581, 0.08057600778252186, 0.016115201556504373, 0.8702208840512361, 0.04834560466951311, 0.0185554596991088, 0.9648839043536575, 0.9627932489467743, 0.9691001345821997, 0.04977863439013675, 0.3626729076995678, 0.06400110135874724, 0.5262312778385885, 0.023917976615373877, 0.9806370412303289, 0.03496306066721802, 0.23774881253708258, 0.5594089706754883, 0.17481530333609013, 0.9450083437736262, 0.042954924716983006, 0.971603383857835, 0.9719454992017095, 0.5800023497222606, 0.24396924234349057, 0.050635125769403704, 0.12428621779762727, 0.1061814646900726, 0.049298537177533706, 0.4740243959378241, 0.3716351264152541, 0.8552558112536759, 0.10964818092995844, 0.02192963618599169, 0.010964818092995845, 0.15905455285349948, 0.4930691138458484, 0.23858182928024924, 0.11133818699744964, 0.9685328670442568, 0.27363422327833536, 0.33604202858742943, 0.36964623144617237, 0.024003002041959244, 0.2986364459359265, 0.08188418678888307, 0.6165397593515901, 0.9839976555012054, 0.9450266901293306, 0.04200118622797025, 0.03770698525667467, 0.9521013777310354, 0.1866832754861892, 0.038098627650242696, 0.6400569445240772, 0.1371550595408737, 0.22776330325206212, 0.16871355796449045, 0.5989331307739411, 0.7848645576461313, 0.008720717307179236, 0.0959278903789716, 0.10464860768615085, 0.01620548640901356, 0.00810274320450678, 0.5833975107244882, 0.38893167381632543, 0.9752688508913346, 0.23714914466290218, 0.013174952481272343, 0.5006481942883491, 0.25032409714417453, 0.9886932729529505], \"Term\": [\"abc\", \"abc\", \"accus\", \"accus\", \"accus\", \"ad\", \"africa\", \"age\", \"ahead\", \"ahead\", \"ahead\", \"ahead\", \"alic\", \"alic\", \"alleg\", \"alleg\", \"alleg\", \"andrew\", \"approv\", \"approv\", \"arrest\", \"arrest\", \"arrest\", \"ash\", \"ask\", \"asylum\", \"asylum\", \"aussi\", \"aussi\", \"aussi\", \"aussi\", \"australia\", \"australia\", \"australia\", \"australia\", \"australian\", \"australian\", \"australian\", \"australian\", \"author\", \"author\", \"await\", \"back\", \"back\", \"back\", \"back\", \"bail\", \"bail\", \"battl\", \"battl\", \"battl\", \"battl\", \"begin\", \"begin\", \"begin\", \"begin\", \"board\", \"brace\", \"brother\", \"budget\", \"budget\", \"budget\", \"bulldog\", \"call\", \"call\", \"call\", \"call\", \"care\", \"cat\", \"celebr\", \"centr\", \"centr\", \"challeng\", \"challeng\", \"chanc\", \"chang\", \"chang\", \"chang\", \"chang\", \"charg\", \"charg\", \"charg\", \"charg\", \"chief\", \"chief\", \"chief\", \"child\", \"child\", \"child\", \"china\", \"china\", \"china\", \"china\", \"claim\", \"claim\", \"claim\", \"claim\", \"clark\", \"class\", \"close\", \"close\", \"closer\", \"coal\", \"coal\", \"coal\", \"coalit\", \"coast\", \"coast\", \"coast\", \"coast\", \"collaps\", \"comment\", \"compani\", \"concern\", \"concern\", \"concern\", \"concern\", \"condit\", \"council\", \"council\", \"council\", \"council\", \"countri\", \"countri\", \"countri\", \"court\", \"court\", \"court\", \"court\", \"crackdown\", \"crash\", \"crash\", \"crash\", \"crash\", \"criticis\", \"cup\", \"cup\", \"cup\", \"damag\", \"damag\", \"damag\", \"day\", \"day\", \"day\", \"day\", \"death\", \"death\", \"death\", \"death\", \"defenc\", \"defenc\", \"defend\", \"defend\", \"defend\", \"defend\", \"despit\", \"despit\", \"die\", \"die\", \"die\", \"disput\", \"dog\", \"dog\", \"driver\", \"driver\", \"driver\", \"driver\", \"drought\", \"drought\", \"drug\", \"drug\", \"drug\", \"drug\", \"drum\", \"dump\", \"dump\", \"earli\", \"earli\", \"east\", \"east\", \"east\", \"east\", \"effort\", \"elect\", \"elect\", \"elect\", \"england\", \"england\", \"evid\", \"expert\", \"export\", \"export\", \"face\", \"face\", \"face\", \"face\", \"fall\", \"fall\", \"fall\", \"fall\", \"famili\", \"famili\", \"famili\", \"famili\", \"fatal\", \"fatal\", \"fiji\", \"final\", \"final\", \"final\", \"finish\", \"fire\", \"fire\", \"fire\", \"fire\", \"first\", \"first\", \"first\", \"flight\", \"flight\", \"flu\", \"found\", \"found\", \"free\", \"free\", \"front\", \"front\", \"fund\", \"fund\", \"fund\", \"fund\", \"futur\", \"futur\", \"ga\", \"ga\", \"gain\", \"game\", \"game\", \"game\", \"game\", \"get\", \"get\", \"go\", \"go\", \"go\", \"gold\", \"gold\", \"gold\", \"gold\", \"good\", \"govt\", \"govt\", \"govt\", \"govt\", \"gp\", \"grain\", \"grain\", \"guilti\", \"guilti\", \"guilti\", \"hand\", \"hand\", \"hawk\", \"health\", \"health\", \"health\", \"health\", \"held\", \"help\", \"help\", \"help\", \"help\", \"higher\", \"hit\", \"hit\", \"hit\", \"hold\", \"hold\", \"holiday\", \"home\", \"home\", \"home\", \"hour\", \"hour\", \"hour\", \"hous\", \"hous\", \"hous\", \"hous\", \"hunt\", \"hunt\", \"hunter\", \"hunter\", \"indigen\", \"indigen\", \"indonesia\", \"interview\", \"interview\", \"interview\", \"interview\", \"iraq\", \"iraq\", \"iraq\", \"israel\", \"japanes\", \"jet\", \"kangaroo\", \"keen\", \"keep\", \"keep\", \"keep\", \"kill\", \"kill\", \"kill\", \"kill\", \"knight\", \"knight\", \"korea\", \"late\", \"lead\", \"lead\", \"lead\", \"legal\", \"level\", \"link\", \"link\", \"live\", \"live\", \"major\", \"man\", \"man\", \"man\", \"man\", \"manag\", \"manag\", \"march\", \"marin\", \"marin\", \"market\", \"market\", \"market\", \"market\", \"mayor\", \"mayor\", \"member\", \"mental\", \"mental\", \"militari\", \"mine\", \"mine\", \"mine\", \"mine\", \"miss\", \"miss\", \"miss\", \"miss\", \"murder\", \"murder\", \"murder\", \"murder\", \"music\", \"nation\", \"nation\", \"nation\", \"nation\", \"neglect\", \"net\", \"new\", \"new\", \"new\", \"new\", \"news\", \"news\", \"news\", \"nsw\", \"nsw\", \"nsw\", \"nsw\", \"nt\", \"nt\", \"nt\", \"obama\", \"oil\", \"one\", \"one\", \"one\", \"one\", \"open\", \"open\", \"open\", \"opposit\", \"opposit\", \"opposit\", \"option\", \"pakistan\", \"pakistan\", \"pakistan\", \"pay\", \"pay\", \"pay\", \"peter\", \"pilot\", \"plan\", \"plan\", \"plan\", \"plan\", \"plane\", \"point\", \"polic\", \"polic\", \"polic\", \"polic\", \"pressur\", \"price\", \"price\", \"price\", \"problem\", \"profit\", \"profit\", \"profit\", \"profit\", \"prompt\", \"prompt\", \"qanta\", \"quarter\", \"question\", \"question\", \"question\", \"rais\", \"rais\", \"rate\", \"rate\", \"rate\", \"reform\", \"refus\", \"reject\", \"reject\", \"reject\", \"reject\", \"report\", \"report\", \"report\", \"report\", \"respons\", \"respons\", \"respons\", \"revamp\", \"rise\", \"rise\", \"rise\", \"rise\", \"road\", \"road\", \"road\", \"road\", \"roar\", \"robberi\", \"round\", \"rule\", \"rule\", \"rural\", \"rural\", \"rural\", \"say\", \"say\", \"say\", \"say\", \"scam\", \"school\", \"school\", \"school\", \"se\", \"search\", \"search\", \"second\", \"second\", \"seeker\", \"set\", \"set\", \"set\", \"set\", \"sex\", \"sex\", \"sex\", \"share\", \"share\", \"share\", \"show\", \"show\", \"show\", \"site\", \"site\", \"site\", \"slam\", \"slow\", \"smash\", \"south\", \"south\", \"south\", \"sport\", \"sport\", \"sport\", \"spring\", \"staff\", \"staff\", \"stand\", \"stand\", \"start\", \"state\", \"state\", \"stock\", \"stock\", \"strike\", \"strike\", \"struggl\", \"studi\", \"survivor\", \"suspect\", \"suspect\", \"suspect\", \"suspend\", \"suspend\", \"sydney\", \"sydney\", \"sydney\", \"sydney\", \"ta\", \"ta\", \"ta\", \"ta\", \"take\", \"take\", \"take\", \"tasmanian\", \"tasmanian\", \"tasmanian\", \"team\", \"terror\", \"terror\", \"test\", \"test\", \"test\", \"theft\", \"third\", \"thousand\", \"thousand\", \"tiger\", \"tiger\", \"tim\", \"tip\", \"titl\", \"titl\", \"toll\", \"tough\", \"tour\", \"tour\", \"tour\", \"tour\", \"tourism\", \"tourism\", \"traffic\", \"tri\", \"trial\", \"trial\", \"trial\", \"trial\", \"troop\", \"troop\", \"two\", \"two\", \"two\", \"two\", \"uk\", \"uk\", \"uni\", \"updat\", \"urg\", \"urg\", \"urg\", \"urg\", \"us\", \"us\", \"us\", \"us\", \"victim\", \"victim\", \"victim\", \"victim\", \"wa\", \"wa\", \"wa\", \"wa\", \"wall\", \"warn\", \"warn\", \"warn\", \"warn\", \"water\", \"water\", \"water\", \"way\", \"week\", \"week\", \"welcom\", \"welcom\", \"win\", \"win\", \"win\", \"win\", \"work\", \"work\", \"work\", \"worker\", \"worker\", \"worker\", \"worker\", \"world\", \"world\", \"world\", \"world\", \"worri\", \"year\", \"year\", \"year\", \"year\", \"zealand\"]}, \"R\": 30, \"lambda.step\": 0.01, \"plot.opts\": {\"xlab\": \"PC1\", \"ylab\": \"PC2\"}, \"topic.order\": [3, 2, 1, 4]};\n",
       "\n",
       "function LDAvis_load_lib(url, callback){\n",
       "  var s = document.createElement('script');\n",
       "  s.src = url;\n",
       "  s.async = true;\n",
       "  s.onreadystatechange = s.onload = callback;\n",
       "  s.onerror = function(){console.warn(\"failed to load library \" + url);};\n",
       "  document.getElementsByTagName(\"head\")[0].appendChild(s);\n",
       "}\n",
       "\n",
       "if(typeof(LDAvis) !== \"undefined\"){\n",
       "   // already loaded: just create the visualization\n",
       "   !function(LDAvis){\n",
       "       new LDAvis(\"#\" + \"ldavis_el461921405588957637443956516039\", ldavis_el461921405588957637443956516039_data);\n",
       "   }(LDAvis);\n",
       "}else if(typeof define === \"function\" && define.amd){\n",
       "   // require.js is available: use it to load d3/LDAvis\n",
       "   require.config({paths: {d3: \"https://d3js.org/d3.v5\"}});\n",
       "   require([\"d3\"], function(d3){\n",
       "      window.d3 = d3;\n",
       "      LDAvis_load_lib(\"https://cdn.jsdelivr.net/gh/bmabey/pyLDAvis@3.3.1/pyLDAvis/js/ldavis.v3.0.0.js\", function(){\n",
       "        new LDAvis(\"#\" + \"ldavis_el461921405588957637443956516039\", ldavis_el461921405588957637443956516039_data);\n",
       "      });\n",
       "    });\n",
       "}else{\n",
       "    // require.js not available: dynamically load d3 & LDAvis\n",
       "    LDAvis_load_lib(\"https://d3js.org/d3.v5.js\", function(){\n",
       "         LDAvis_load_lib(\"https://cdn.jsdelivr.net/gh/bmabey/pyLDAvis@3.3.1/pyLDAvis/js/ldavis.v3.0.0.js\", function(){\n",
       "                 new LDAvis(\"#\" + \"ldavis_el461921405588957637443956516039\", ldavis_el461921405588957637443956516039_data);\n",
       "            })\n",
       "         });\n",
       "}\n",
       "</script>"
      ],
      "text/plain": [
       "PreparedData(topic_coordinates=              x         y  topics  cluster       Freq\n",
       "topic                                                \n",
       "2      0.073835 -0.025662       1        1  28.293791\n",
       "1      0.100068 -0.161340       2        1  24.899639\n",
       "0     -0.234666 -0.022601       3        1  23.522183\n",
       "3      0.060762  0.209603       4        1  23.284388, topic_info=      Term        Freq       Total Category  logprob  loglift\n",
       "86   charg  339.000000  339.000000  Default  30.0000  30.0000\n",
       "688   kill  264.000000  264.000000  Default  29.0000  29.0000\n",
       "139    man  466.000000  466.000000  Default  28.0000  28.0000\n",
       "185  polic  631.000000  631.000000  Default  27.0000  27.0000\n",
       "312  court  288.000000  288.000000  Default  26.0000  26.0000\n",
       "..     ...         ...         ...      ...      ...      ...\n",
       "155    new  122.482434  482.596014   Topic4  -5.2732   0.0862\n",
       "124     us   98.073429  263.699508   Topic4  -5.4954   0.4683\n",
       "84   trial   73.866821  140.622580   Topic4  -5.7789   0.8136\n",
       "279   work   70.980560  118.544118   Topic4  -5.8187   0.9445\n",
       "305    set   71.682960  196.935800   Topic4  -5.8089   0.4468\n",
       "\n",
       "[318 rows x 6 columns], token_table=      Topic      Freq     Term\n",
       "term                          \n",
       "496       2  0.008939      abc\n",
       "496       4  0.983273      abc\n",
       "101       1  0.026297    accus\n",
       "101       2  0.966409    accus\n",
       "101       4  0.006574    accus\n",
       "...     ...       ...      ...\n",
       "251       1  0.237149     year\n",
       "251       2  0.013175     year\n",
       "251       3  0.500648     year\n",
       "251       4  0.250324     year\n",
       "3465      1  0.988693  zealand\n",
       "\n",
       "[626 rows x 3 columns], R=30, lambda_step=0.01, plot_opts={'xlab': 'PC1', 'ylab': 'PC2'}, topic_order=[3, 2, 1, 4])"
      ]
     },
     "execution_count": 14,
     "metadata": {},
     "output_type": "execute_result"
    }
   ],
   "source": [
    "# TODO: show visualization results of the LDA\n",
    "import pyLDAvis\n",
    "import pyLDAvis.gensim_models as gensimvis\n",
    "pyLDAvis.enable_notebook()\n",
    "\n",
    "pyLDAvis.enable_notebook()\n",
    "\n",
    "vis = gensimvis.prepare(lda_model, df['BOW'].to_list(), dct)\n",
    "vis"
   ]
  },
  {
   "cell_type": "markdown",
   "metadata": {},
   "source": [
    "Depending on your results, you can try to fine tune the algorithm: number of topics, hyperparameters...\n",
    "And check with others their results."
   ]
  }
 ],
 "metadata": {
  "kernelspec": {
   "display_name": "Python 3",
   "language": "python",
   "name": "python3"
  },
  "language_info": {
   "codemirror_mode": {
    "name": "ipython",
    "version": 3
   },
   "file_extension": ".py",
   "mimetype": "text/x-python",
   "name": "python",
   "nbconvert_exporter": "python",
   "pygments_lexer": "ipython3",
   "version": "3.8.8"
  },
  "toc": {
   "base_numbering": 1,
   "nav_menu": {},
   "number_sections": true,
   "sideBar": true,
   "skip_h1_title": false,
   "title_cell": "Table of Contents",
   "title_sidebar": "Contents",
   "toc_cell": false,
   "toc_position": {},
   "toc_section_display": true,
   "toc_window_display": false
  }
 },
 "nbformat": 4,
 "nbformat_minor": 2
}
